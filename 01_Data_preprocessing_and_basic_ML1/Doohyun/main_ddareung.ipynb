{
 "cells": [
  {
   "cell_type": "code",
   "execution_count": 1,
   "metadata": {},
   "outputs": [],
   "source": [
    "import numpy as np\n",
    "import pandas as pd \n",
    "\n",
    "import matplotlib.pyplot as plt\n",
    "import seaborn as sns\n",
    "plt.style.use('seaborn-whitegrid')\n",
    "import missingno\n",
    "\n",
    "from sklearn.preprocessing import LabelEncoder, OneHotEncoder\n",
    "from sklearn.preprocessing import StandardScaler\n",
    "from sklearn.neighbors import KNeighborsRegressor\n",
    "from sklearn.linear_model import LogisticRegression\n",
    "from sklearn.ensemble import RandomForestRegressor\n",
    "from sklearn.svm import SVR\n",
    "from xgboost import XGBRegressor\n",
    "from sklearn.ensemble import GradientBoostingRegressor\n",
    "from sklearn.ensemble import ExtraTreesRegressor\n",
    "from sklearn.ensemble import AdaBoostRegressor\n",
    "from sklearn.ensemble import BaggingRegressor\n",
    "from sklearn.ensemble import VotingRegressor\n",
    "from sklearn.gaussian_process import GaussianProcessRegressor\n",
    "\n",
    "from sklearn.model_selection import cross_val_score\n",
    "from sklearn.model_selection import cross_val_predict\n",
    "from sklearn.model_selection import GridSearchCV\n",
    "from sklearn import model_selection\n",
    "\n",
    "import sys\n",
    "import warnings\n",
    "warnings.filterwarnings('ignore')"
   ]
  },
  {
   "cell_type": "code",
   "execution_count": 2,
   "metadata": {},
   "outputs": [
    {
     "name": "stdout",
     "output_type": "stream",
     "text": [
      "hi for remote ssh\n"
     ]
    }
   ],
   "source": [
    "print('hi for remote ssh')"
   ]
  },
  {
   "cell_type": "code",
   "execution_count": 167,
   "metadata": {},
   "outputs": [],
   "source": [
    "test = pd.read_csv('../input/ddareung/test.csv')\n",
    "train = pd.read_csv('../input/ddareung/train.csv')"
   ]
  },
  {
   "cell_type": "code",
   "execution_count": 168,
   "metadata": {},
   "outputs": [
    {
     "name": "stdout",
     "output_type": "stream",
     "text": [
      "data size: (2174, 11)\n"
     ]
    }
   ],
   "source": [
    "ntrain = len(train)\n",
    "ntest = len(test)\n",
    "\n",
    "y_train = train['count'].values\n",
    "id_test = test['id']\n",
    "\n",
    "data = pd.concat((train, test))\n",
    "print(f'data size: {data.shape}')"
   ]
  },
  {
   "cell_type": "code",
   "execution_count": 169,
   "metadata": {},
   "outputs": [
    {
     "data": {
      "text/html": [
       "<div>\n",
       "<style scoped>\n",
       "    .dataframe tbody tr th:only-of-type {\n",
       "        vertical-align: middle;\n",
       "    }\n",
       "\n",
       "    .dataframe tbody tr th {\n",
       "        vertical-align: top;\n",
       "    }\n",
       "\n",
       "    .dataframe thead th {\n",
       "        text-align: right;\n",
       "    }\n",
       "</style>\n",
       "<table border=\"1\" class=\"dataframe\">\n",
       "  <thead>\n",
       "    <tr style=\"text-align: right;\">\n",
       "      <th></th>\n",
       "      <th>id</th>\n",
       "      <th>hour</th>\n",
       "      <th>hour_bef_temperature</th>\n",
       "      <th>hour_bef_precipitation</th>\n",
       "      <th>hour_bef_windspeed</th>\n",
       "      <th>hour_bef_humidity</th>\n",
       "      <th>hour_bef_visibility</th>\n",
       "      <th>hour_bef_ozone</th>\n",
       "      <th>hour_bef_pm10</th>\n",
       "      <th>hour_bef_pm2.5</th>\n",
       "      <th>count</th>\n",
       "    </tr>\n",
       "  </thead>\n",
       "  <tbody>\n",
       "    <tr>\n",
       "      <th>0</th>\n",
       "      <td>3</td>\n",
       "      <td>20</td>\n",
       "      <td>16.3</td>\n",
       "      <td>1.0</td>\n",
       "      <td>1.5</td>\n",
       "      <td>89.0</td>\n",
       "      <td>576.0</td>\n",
       "      <td>0.027</td>\n",
       "      <td>76.0</td>\n",
       "      <td>33.0</td>\n",
       "      <td>49.0</td>\n",
       "    </tr>\n",
       "    <tr>\n",
       "      <th>1</th>\n",
       "      <td>6</td>\n",
       "      <td>13</td>\n",
       "      <td>20.1</td>\n",
       "      <td>0.0</td>\n",
       "      <td>1.4</td>\n",
       "      <td>48.0</td>\n",
       "      <td>916.0</td>\n",
       "      <td>0.042</td>\n",
       "      <td>73.0</td>\n",
       "      <td>40.0</td>\n",
       "      <td>159.0</td>\n",
       "    </tr>\n",
       "    <tr>\n",
       "      <th>2</th>\n",
       "      <td>7</td>\n",
       "      <td>6</td>\n",
       "      <td>13.9</td>\n",
       "      <td>0.0</td>\n",
       "      <td>0.7</td>\n",
       "      <td>79.0</td>\n",
       "      <td>1382.0</td>\n",
       "      <td>0.033</td>\n",
       "      <td>32.0</td>\n",
       "      <td>19.0</td>\n",
       "      <td>26.0</td>\n",
       "    </tr>\n",
       "    <tr>\n",
       "      <th>3</th>\n",
       "      <td>8</td>\n",
       "      <td>23</td>\n",
       "      <td>8.1</td>\n",
       "      <td>0.0</td>\n",
       "      <td>2.7</td>\n",
       "      <td>54.0</td>\n",
       "      <td>946.0</td>\n",
       "      <td>0.040</td>\n",
       "      <td>75.0</td>\n",
       "      <td>64.0</td>\n",
       "      <td>57.0</td>\n",
       "    </tr>\n",
       "    <tr>\n",
       "      <th>4</th>\n",
       "      <td>9</td>\n",
       "      <td>18</td>\n",
       "      <td>29.5</td>\n",
       "      <td>0.0</td>\n",
       "      <td>4.8</td>\n",
       "      <td>7.0</td>\n",
       "      <td>2000.0</td>\n",
       "      <td>0.057</td>\n",
       "      <td>27.0</td>\n",
       "      <td>11.0</td>\n",
       "      <td>431.0</td>\n",
       "    </tr>\n",
       "  </tbody>\n",
       "</table>\n",
       "</div>"
      ],
      "text/plain": [
       "   id  hour  hour_bef_temperature  hour_bef_precipitation  hour_bef_windspeed  \\\n",
       "0   3    20                  16.3                     1.0                 1.5   \n",
       "1   6    13                  20.1                     0.0                 1.4   \n",
       "2   7     6                  13.9                     0.0                 0.7   \n",
       "3   8    23                   8.1                     0.0                 2.7   \n",
       "4   9    18                  29.5                     0.0                 4.8   \n",
       "\n",
       "   hour_bef_humidity  hour_bef_visibility  hour_bef_ozone  hour_bef_pm10  \\\n",
       "0               89.0                576.0           0.027           76.0   \n",
       "1               48.0                916.0           0.042           73.0   \n",
       "2               79.0               1382.0           0.033           32.0   \n",
       "3               54.0                946.0           0.040           75.0   \n",
       "4                7.0               2000.0           0.057           27.0   \n",
       "\n",
       "   hour_bef_pm2.5  count  \n",
       "0            33.0   49.0  \n",
       "1            40.0  159.0  \n",
       "2            19.0   26.0  \n",
       "3            64.0   57.0  \n",
       "4            11.0  431.0  "
      ]
     },
     "execution_count": 169,
     "metadata": {},
     "output_type": "execute_result"
    }
   ],
   "source": [
    "train.head()"
   ]
  },
  {
   "cell_type": "code",
   "execution_count": 170,
   "metadata": {},
   "outputs": [
    {
     "data": {
      "text/plain": [
       "<AxesSubplot:>"
      ]
     },
     "execution_count": 170,
     "metadata": {},
     "output_type": "execute_result"
    },
    {
     "data": {
      "image/png": "[encoded data removed]",
      "text/plain": [
       "<Figure size 1080x576 with 2 Axes>"
      ]
     },
     "metadata": {},
     "output_type": "display_data"
    }
   ],
   "source": [
    "missingno.matrix(data, figsize=(15,8))"
   ]
  },
  {
   "cell_type": "code",
   "execution_count": 171,
   "metadata": {},
   "outputs": [
    {
     "data": {
      "text/plain": [
       "id                          0\n",
       "hour                        0\n",
       "hour_bef_temperature        3\n",
       "hour_bef_precipitation      3\n",
       "hour_bef_windspeed         10\n",
       "hour_bef_humidity           3\n",
       "hour_bef_visibility         3\n",
       "hour_bef_ozone            111\n",
       "hour_bef_pm10             127\n",
       "hour_bef_pm2.5            153\n",
       "count                     715\n",
       "dtype: int64"
      ]
     },
     "execution_count": 171,
     "metadata": {},
     "output_type": "execute_result"
    }
   ],
   "source": [
    "data.isnull().sum()"
   ]
  },
  {
   "cell_type": "code",
   "execution_count": 172,
   "metadata": {},
   "outputs": [
    {
     "data": {
      "text/plain": [
       "id                        False\n",
       "hour                      False\n",
       "hour_bef_temperature       True\n",
       "hour_bef_precipitation     True\n",
       "hour_bef_windspeed         True\n",
       "hour_bef_humidity          True\n",
       "hour_bef_visibility        True\n",
       "hour_bef_ozone             True\n",
       "hour_bef_pm10              True\n",
       "hour_bef_pm2.5             True\n",
       "count                      True\n",
       "dtype: bool"
      ]
     },
     "execution_count": 172,
     "metadata": {},
     "output_type": "execute_result"
    }
   ],
   "source": [
    "data.isna().any()"
   ]
  },
  {
   "cell_type": "code",
   "execution_count": 173,
   "metadata": {},
   "outputs": [
    {
     "data": {
      "image/png": "[encoded data removed]",
      "text/plain": [
       "<Figure size 1008x576 with 2 Axes>"
      ]
     },
     "metadata": {},
     "output_type": "display_data"
    }
   ],
   "source": [
    "corr = data.corr()\n",
    "\n",
    "mask = np.zeros_like(corr, dtype=np.bool)\n",
    "mask[np.triu_indices_from(mask)] = True\n",
    "\n",
    "plt.figure(figsize=(14,8))\n",
    "plt.title('Overall Correlation of Titanic Features', fontsize=18)\n",
    "sns.heatmap(corr, mask=mask, annot=True, cmap='RdYlGn', linewidths=0.2, annot_kws={'size':20})\n",
    "plt.show()"
   ]
  },
  {
   "cell_type": "markdown",
   "metadata": {},
   "source": [
    "## Fill blank cells"
   ]
  },
  {
   "cell_type": "code",
   "execution_count": 174,
   "metadata": {},
   "outputs": [
    {
     "data": {
      "text/html": [
       "<div>\n",
       "<style scoped>\n",
       "    .dataframe tbody tr th:only-of-type {\n",
       "        vertical-align: middle;\n",
       "    }\n",
       "\n",
       "    .dataframe tbody tr th {\n",
       "        vertical-align: top;\n",
       "    }\n",
       "\n",
       "    .dataframe thead th {\n",
       "        text-align: right;\n",
       "    }\n",
       "</style>\n",
       "<table border=\"1\" class=\"dataframe\">\n",
       "  <thead>\n",
       "    <tr style=\"text-align: right;\">\n",
       "      <th></th>\n",
       "      <th>hour</th>\n",
       "      <th>hour_bef_temperature</th>\n",
       "      <th>hour_bef_precipitation</th>\n",
       "      <th>hour_bef_windspeed</th>\n",
       "      <th>hour_bef_humidity</th>\n",
       "      <th>hour_bef_visibility</th>\n",
       "      <th>hour_bef_ozone</th>\n",
       "      <th>hour_bef_pm10</th>\n",
       "      <th>hour_bef_pm2.5</th>\n",
       "    </tr>\n",
       "  </thead>\n",
       "  <tbody>\n",
       "    <tr>\n",
       "      <th>0</th>\n",
       "      <td>20</td>\n",
       "      <td>16.3</td>\n",
       "      <td>1.0</td>\n",
       "      <td>1.5</td>\n",
       "      <td>89.0</td>\n",
       "      <td>576.0</td>\n",
       "      <td>0.027</td>\n",
       "      <td>76.0</td>\n",
       "      <td>33.0</td>\n",
       "    </tr>\n",
       "    <tr>\n",
       "      <th>1</th>\n",
       "      <td>13</td>\n",
       "      <td>20.1</td>\n",
       "      <td>0.0</td>\n",
       "      <td>1.4</td>\n",
       "      <td>48.0</td>\n",
       "      <td>916.0</td>\n",
       "      <td>0.042</td>\n",
       "      <td>73.0</td>\n",
       "      <td>40.0</td>\n",
       "    </tr>\n",
       "    <tr>\n",
       "      <th>2</th>\n",
       "      <td>6</td>\n",
       "      <td>13.9</td>\n",
       "      <td>0.0</td>\n",
       "      <td>0.7</td>\n",
       "      <td>79.0</td>\n",
       "      <td>1382.0</td>\n",
       "      <td>0.033</td>\n",
       "      <td>32.0</td>\n",
       "      <td>19.0</td>\n",
       "    </tr>\n",
       "    <tr>\n",
       "      <th>3</th>\n",
       "      <td>23</td>\n",
       "      <td>8.1</td>\n",
       "      <td>0.0</td>\n",
       "      <td>2.7</td>\n",
       "      <td>54.0</td>\n",
       "      <td>946.0</td>\n",
       "      <td>0.040</td>\n",
       "      <td>75.0</td>\n",
       "      <td>64.0</td>\n",
       "    </tr>\n",
       "    <tr>\n",
       "      <th>4</th>\n",
       "      <td>18</td>\n",
       "      <td>29.5</td>\n",
       "      <td>0.0</td>\n",
       "      <td>4.8</td>\n",
       "      <td>7.0</td>\n",
       "      <td>2000.0</td>\n",
       "      <td>0.057</td>\n",
       "      <td>27.0</td>\n",
       "      <td>11.0</td>\n",
       "    </tr>\n",
       "  </tbody>\n",
       "</table>\n",
       "</div>"
      ],
      "text/plain": [
       "   hour  hour_bef_temperature  hour_bef_precipitation  hour_bef_windspeed  \\\n",
       "0    20                  16.3                     1.0                 1.5   \n",
       "1    13                  20.1                     0.0                 1.4   \n",
       "2     6                  13.9                     0.0                 0.7   \n",
       "3    23                   8.1                     0.0                 2.7   \n",
       "4    18                  29.5                     0.0                 4.8   \n",
       "\n",
       "   hour_bef_humidity  hour_bef_visibility  hour_bef_ozone  hour_bef_pm10  \\\n",
       "0               89.0                576.0           0.027           76.0   \n",
       "1               48.0                916.0           0.042           73.0   \n",
       "2               79.0               1382.0           0.033           32.0   \n",
       "3               54.0                946.0           0.040           75.0   \n",
       "4                7.0               2000.0           0.057           27.0   \n",
       "\n",
       "   hour_bef_pm2.5  \n",
       "0            33.0  \n",
       "1            40.0  \n",
       "2            19.0  \n",
       "3            64.0  \n",
       "4            11.0  "
      ]
     },
     "execution_count": 174,
     "metadata": {},
     "output_type": "execute_result"
    }
   ],
   "source": [
    "temp = data.copy()\n",
    "temp = temp.drop('id', axis=1)\n",
    "temp = temp.drop('count', axis=1)\n",
    "temp = temp.reset_index(drop=True)\n",
    "temp.head()"
   ]
  },
  {
   "cell_type": "code",
   "execution_count": 175,
   "metadata": {},
   "outputs": [
    {
     "data": {
      "text/plain": [
       "hour\n",
       "0     17.012360\n",
       "1     16.407692\n",
       "2     16.006593\n",
       "3     15.614286\n",
       "4     15.260440\n",
       "5     14.916667\n",
       "6     14.640659\n",
       "7     14.498901\n",
       "8     14.989011\n",
       "9     16.608791\n",
       "10    18.365934\n",
       "11    20.027473\n",
       "12    21.426374\n",
       "13    22.642222\n",
       "14    23.291209\n",
       "15    23.819780\n",
       "16    24.048315\n",
       "17    23.638202\n",
       "18    22.908989\n",
       "19    21.768889\n",
       "20    20.371429\n",
       "21    19.167416\n",
       "22    18.193407\n",
       "23    17.563736\n",
       "Name: hour_bef_temperature, dtype: float64"
      ]
     },
     "execution_count": 175,
     "metadata": {},
     "output_type": "execute_result"
    }
   ],
   "source": [
    "temp.groupby('hour')['hour_bef_temperature'].mean()"
   ]
  },
  {
   "cell_type": "code",
   "execution_count": 176,
   "metadata": {},
   "outputs": [
    {
     "data": {
      "text/plain": [
       "hour                        0\n",
       "hour_bef_temperature        3\n",
       "hour_bef_precipitation      3\n",
       "hour_bef_windspeed         10\n",
       "hour_bef_humidity           3\n",
       "hour_bef_visibility         3\n",
       "hour_bef_ozone            111\n",
       "hour_bef_pm10             127\n",
       "hour_bef_pm2.5            153\n",
       "dtype: int64"
      ]
     },
     "execution_count": 176,
     "metadata": {},
     "output_type": "execute_result"
    }
   ],
   "source": [
    "temp.isnull().sum()"
   ]
  },
  {
   "cell_type": "code",
   "execution_count": 177,
   "metadata": {},
   "outputs": [
    {
     "data": {
      "text/plain": [
       "hour                      False\n",
       "hour_bef_temperature       True\n",
       "hour_bef_precipitation     True\n",
       "hour_bef_windspeed         True\n",
       "hour_bef_humidity          True\n",
       "hour_bef_visibility        True\n",
       "hour_bef_ozone             True\n",
       "hour_bef_pm10              True\n",
       "hour_bef_pm2.5             True\n",
       "dtype: bool"
      ]
     },
     "execution_count": 177,
     "metadata": {},
     "output_type": "execute_result"
    }
   ],
   "source": [
    "temp.isna().any()"
   ]
  },
  {
   "cell_type": "code",
   "execution_count": 178,
   "metadata": {},
   "outputs": [
    {
     "data": {
      "text/plain": [
       "0       16.3\n",
       "1       20.1\n",
       "2       13.9\n",
       "3        8.1\n",
       "4       29.5\n",
       "        ... \n",
       "2169    24.6\n",
       "2170    18.1\n",
       "2171    23.3\n",
       "2172    27.0\n",
       "2173    22.3\n",
       "Name: hour_bef_temperature, Length: 2174, dtype: float64"
      ]
     },
     "execution_count": 178,
     "metadata": {},
     "output_type": "execute_result"
    }
   ],
   "source": [
    "temp['hour_bef_temperature'].fillna(temp['hour_bef_temperature'].mean())"
   ]
  },
  {
   "cell_type": "code",
   "execution_count": 179,
   "metadata": {},
   "outputs": [
    {
     "data": {
      "text/html": [
       "<div>\n",
       "<style scoped>\n",
       "    .dataframe tbody tr th:only-of-type {\n",
       "        vertical-align: middle;\n",
       "    }\n",
       "\n",
       "    .dataframe tbody tr th {\n",
       "        vertical-align: top;\n",
       "    }\n",
       "\n",
       "    .dataframe thead th {\n",
       "        text-align: right;\n",
       "    }\n",
       "</style>\n",
       "<table border=\"1\" class=\"dataframe\">\n",
       "  <thead>\n",
       "    <tr style=\"text-align: right;\">\n",
       "      <th></th>\n",
       "      <th>hour</th>\n",
       "      <th>hour_bef_temperature</th>\n",
       "      <th>hour_bef_precipitation</th>\n",
       "      <th>hour_bef_windspeed</th>\n",
       "      <th>hour_bef_humidity</th>\n",
       "      <th>hour_bef_visibility</th>\n",
       "      <th>hour_bef_ozone</th>\n",
       "      <th>hour_bef_pm10</th>\n",
       "      <th>hour_bef_pm2.5</th>\n",
       "    </tr>\n",
       "  </thead>\n",
       "  <tbody>\n",
       "    <tr>\n",
       "      <th>0</th>\n",
       "      <td>20</td>\n",
       "      <td>16.3</td>\n",
       "      <td>1.0</td>\n",
       "      <td>1.5</td>\n",
       "      <td>89.0</td>\n",
       "      <td>576.0</td>\n",
       "      <td>0.027000</td>\n",
       "      <td>76.000000</td>\n",
       "      <td>33.000000</td>\n",
       "    </tr>\n",
       "    <tr>\n",
       "      <th>1</th>\n",
       "      <td>13</td>\n",
       "      <td>20.1</td>\n",
       "      <td>0.0</td>\n",
       "      <td>1.4</td>\n",
       "      <td>48.0</td>\n",
       "      <td>916.0</td>\n",
       "      <td>0.042000</td>\n",
       "      <td>73.000000</td>\n",
       "      <td>40.000000</td>\n",
       "    </tr>\n",
       "    <tr>\n",
       "      <th>2</th>\n",
       "      <td>6</td>\n",
       "      <td>13.9</td>\n",
       "      <td>0.0</td>\n",
       "      <td>0.7</td>\n",
       "      <td>79.0</td>\n",
       "      <td>1382.0</td>\n",
       "      <td>0.033000</td>\n",
       "      <td>32.000000</td>\n",
       "      <td>19.000000</td>\n",
       "    </tr>\n",
       "    <tr>\n",
       "      <th>3</th>\n",
       "      <td>23</td>\n",
       "      <td>8.1</td>\n",
       "      <td>0.0</td>\n",
       "      <td>2.7</td>\n",
       "      <td>54.0</td>\n",
       "      <td>946.0</td>\n",
       "      <td>0.040000</td>\n",
       "      <td>75.000000</td>\n",
       "      <td>64.000000</td>\n",
       "    </tr>\n",
       "    <tr>\n",
       "      <th>4</th>\n",
       "      <td>18</td>\n",
       "      <td>29.5</td>\n",
       "      <td>0.0</td>\n",
       "      <td>4.8</td>\n",
       "      <td>7.0</td>\n",
       "      <td>2000.0</td>\n",
       "      <td>0.057000</td>\n",
       "      <td>27.000000</td>\n",
       "      <td>11.000000</td>\n",
       "    </tr>\n",
       "    <tr>\n",
       "      <th>...</th>\n",
       "      <td>...</td>\n",
       "      <td>...</td>\n",
       "      <td>...</td>\n",
       "      <td>...</td>\n",
       "      <td>...</td>\n",
       "      <td>...</td>\n",
       "      <td>...</td>\n",
       "      <td>...</td>\n",
       "      <td>...</td>\n",
       "    </tr>\n",
       "    <tr>\n",
       "      <th>2169</th>\n",
       "      <td>1</td>\n",
       "      <td>24.6</td>\n",
       "      <td>0.0</td>\n",
       "      <td>2.4</td>\n",
       "      <td>60.0</td>\n",
       "      <td>1745.0</td>\n",
       "      <td>0.039824</td>\n",
       "      <td>50.465559</td>\n",
       "      <td>28.517071</td>\n",
       "    </tr>\n",
       "    <tr>\n",
       "      <th>2170</th>\n",
       "      <td>1</td>\n",
       "      <td>18.1</td>\n",
       "      <td>0.0</td>\n",
       "      <td>1.0</td>\n",
       "      <td>55.0</td>\n",
       "      <td>2000.0</td>\n",
       "      <td>0.039824</td>\n",
       "      <td>50.465559</td>\n",
       "      <td>28.517071</td>\n",
       "    </tr>\n",
       "    <tr>\n",
       "      <th>2171</th>\n",
       "      <td>9</td>\n",
       "      <td>23.3</td>\n",
       "      <td>0.0</td>\n",
       "      <td>2.3</td>\n",
       "      <td>66.0</td>\n",
       "      <td>1789.0</td>\n",
       "      <td>0.020000</td>\n",
       "      <td>17.000000</td>\n",
       "      <td>15.000000</td>\n",
       "    </tr>\n",
       "    <tr>\n",
       "      <th>2172</th>\n",
       "      <td>16</td>\n",
       "      <td>27.0</td>\n",
       "      <td>0.0</td>\n",
       "      <td>1.6</td>\n",
       "      <td>46.0</td>\n",
       "      <td>1956.0</td>\n",
       "      <td>0.032000</td>\n",
       "      <td>40.000000</td>\n",
       "      <td>26.000000</td>\n",
       "    </tr>\n",
       "    <tr>\n",
       "      <th>2173</th>\n",
       "      <td>8</td>\n",
       "      <td>22.3</td>\n",
       "      <td>0.0</td>\n",
       "      <td>1.0</td>\n",
       "      <td>63.0</td>\n",
       "      <td>1277.0</td>\n",
       "      <td>0.007000</td>\n",
       "      <td>30.000000</td>\n",
       "      <td>24.000000</td>\n",
       "    </tr>\n",
       "  </tbody>\n",
       "</table>\n",
       "<p>2174 rows × 9 columns</p>\n",
       "</div>"
      ],
      "text/plain": [
       "      hour  hour_bef_temperature  hour_bef_precipitation  hour_bef_windspeed  \\\n",
       "0       20                  16.3                     1.0                 1.5   \n",
       "1       13                  20.1                     0.0                 1.4   \n",
       "2        6                  13.9                     0.0                 0.7   \n",
       "3       23                   8.1                     0.0                 2.7   \n",
       "4       18                  29.5                     0.0                 4.8   \n",
       "...    ...                   ...                     ...                 ...   \n",
       "2169     1                  24.6                     0.0                 2.4   \n",
       "2170     1                  18.1                     0.0                 1.0   \n",
       "2171     9                  23.3                     0.0                 2.3   \n",
       "2172    16                  27.0                     0.0                 1.6   \n",
       "2173     8                  22.3                     0.0                 1.0   \n",
       "\n",
       "      hour_bef_humidity  hour_bef_visibility  hour_bef_ozone  hour_bef_pm10  \\\n",
       "0                  89.0                576.0        0.027000      76.000000   \n",
       "1                  48.0                916.0        0.042000      73.000000   \n",
       "2                  79.0               1382.0        0.033000      32.000000   \n",
       "3                  54.0                946.0        0.040000      75.000000   \n",
       "4                   7.0               2000.0        0.057000      27.000000   \n",
       "...                 ...                  ...             ...            ...   \n",
       "2169               60.0               1745.0        0.039824      50.465559   \n",
       "2170               55.0               2000.0        0.039824      50.465559   \n",
       "2171               66.0               1789.0        0.020000      17.000000   \n",
       "2172               46.0               1956.0        0.032000      40.000000   \n",
       "2173               63.0               1277.0        0.007000      30.000000   \n",
       "\n",
       "      hour_bef_pm2.5  \n",
       "0          33.000000  \n",
       "1          40.000000  \n",
       "2          19.000000  \n",
       "3          64.000000  \n",
       "4          11.000000  \n",
       "...              ...  \n",
       "2169       28.517071  \n",
       "2170       28.517071  \n",
       "2171       15.000000  \n",
       "2172       26.000000  \n",
       "2173       24.000000  \n",
       "\n",
       "[2174 rows x 9 columns]"
      ]
     },
     "execution_count": 179,
     "metadata": {},
     "output_type": "execute_result"
    }
   ],
   "source": [
    "for column in temp.columns:\n",
    "    if column == 'hour' or column == 'count':\n",
    "        continue\n",
    "    # strategy 1 - fill by hour mean\n",
    "    if False:\n",
    "        temp[column] = temp.groupby('hour')[column].apply(lambda x: x.fillna(x.mean()))\n",
    "\n",
    "# strategy 2 - fill by column mean\n",
    "temp = temp.fillna(temp.mean())\n",
    "temp"
   ]
  },
  {
   "cell_type": "code",
   "execution_count": 180,
   "metadata": {},
   "outputs": [
    {
     "data": {
      "text/plain": [
       "hour                      False\n",
       "hour_bef_temperature      False\n",
       "hour_bef_precipitation    False\n",
       "hour_bef_windspeed        False\n",
       "hour_bef_humidity         False\n",
       "hour_bef_visibility       False\n",
       "hour_bef_ozone            False\n",
       "hour_bef_pm10             False\n",
       "hour_bef_pm2.5            False\n",
       "dtype: bool"
      ]
     },
     "execution_count": 180,
     "metadata": {},
     "output_type": "execute_result"
    }
   ],
   "source": [
    "temp.isna().any()"
   ]
  },
  {
   "cell_type": "markdown",
   "metadata": {},
   "source": [
    "## Make ML Models"
   ]
  },
  {
   "cell_type": "code",
   "execution_count": 181,
   "metadata": {},
   "outputs": [],
   "source": [
    "train = temp[:ntrain]\n",
    "test = temp[ntrain:]\n",
    "X_train = train\n",
    "X_test = test"
   ]
  },
  {
   "cell_type": "code",
   "execution_count": 182,
   "metadata": {},
   "outputs": [],
   "source": [
    "scaler = StandardScaler()\n",
    "X_train = scaler.fit_transform(X_train)\n",
    "X_test = scaler.fit_transform(X_test)"
   ]
  },
  {
   "cell_type": "code",
   "execution_count": 183,
   "metadata": {},
   "outputs": [],
   "source": [
    "svr = SVR()\n",
    "ran = RandomForestRegressor(random_state=1)\n",
    "knn = KNeighborsRegressor()\n",
    "xgb = XGBRegressor()\n",
    "gbr = GradientBoostingRegressor()\n",
    "ext = ExtraTreesRegressor()\n",
    "ada = AdaBoostRegressor()\n",
    "gpr = GaussianProcessRegressor()\n",
    "bag = BaggingRegressor()\n",
    "\n",
    "# 리스트 준비\n",
    "models = [ran, knn, xgb, gbr, svr, ext, ada, gpr, bag]         \n",
    "model_names = ['Random Forest', 'K Nearest Neighbour', \n",
    "    'XGBoost', 'Gradient Boosting', 'SVR', 'Extra Trees', 'AdaBoost', \n",
    "    'Gaussian Process', 'Bagging Classifier']\n",
    "scores = {}\n",
    "scoring='neg_mean_squared_error'\n",
    "# 이어서 연속적으로 모델을 학습 시키고 교차 검증합니다.\n",
    "for ind, mod in enumerate(models):\n",
    "    mod.fit(X_train, y_train)\n",
    "    acc = cross_val_score(mod, X_train, y_train, scoring=scoring, cv = 10)\n",
    "    scores[model_names[ind]] = acc"
   ]
  },
  {
   "cell_type": "code",
   "execution_count": 184,
   "metadata": {},
   "outputs": [
    {
     "data": {
      "text/html": [
       "<div>\n",
       "<style scoped>\n",
       "    .dataframe tbody tr th:only-of-type {\n",
       "        vertical-align: middle;\n",
       "    }\n",
       "\n",
       "    .dataframe tbody tr th {\n",
       "        vertical-align: top;\n",
       "    }\n",
       "\n",
       "    .dataframe thead th {\n",
       "        text-align: right;\n",
       "    }\n",
       "</style>\n",
       "<table border=\"1\" class=\"dataframe\">\n",
       "  <thead>\n",
       "    <tr style=\"text-align: right;\">\n",
       "      <th></th>\n",
       "      <th>0</th>\n",
       "      <th>1</th>\n",
       "      <th>2</th>\n",
       "      <th>3</th>\n",
       "      <th>4</th>\n",
       "      <th>5</th>\n",
       "      <th>6</th>\n",
       "      <th>7</th>\n",
       "      <th>8</th>\n",
       "      <th>9</th>\n",
       "      <th>mean</th>\n",
       "    </tr>\n",
       "  </thead>\n",
       "  <tbody>\n",
       "    <tr>\n",
       "      <th>Extra Trees</th>\n",
       "      <td>-1445.461890</td>\n",
       "      <td>-1229.051882</td>\n",
       "      <td>-1801.024294</td>\n",
       "      <td>-1115.371982</td>\n",
       "      <td>-1229.428142</td>\n",
       "      <td>-1233.242136</td>\n",
       "      <td>-1383.710866</td>\n",
       "      <td>-1786.200302</td>\n",
       "      <td>-1280.099271</td>\n",
       "      <td>-1086.031017</td>\n",
       "      <td>-1358.962178</td>\n",
       "    </tr>\n",
       "    <tr>\n",
       "      <th>XGBoost</th>\n",
       "      <td>-1365.169771</td>\n",
       "      <td>-1286.919747</td>\n",
       "      <td>-2328.252501</td>\n",
       "      <td>-1272.397165</td>\n",
       "      <td>-1132.344608</td>\n",
       "      <td>-1167.251268</td>\n",
       "      <td>-1261.538433</td>\n",
       "      <td>-1844.037501</td>\n",
       "      <td>-1368.891875</td>\n",
       "      <td>-1306.578959</td>\n",
       "      <td>-1433.338183</td>\n",
       "    </tr>\n",
       "    <tr>\n",
       "      <th>Random Forest</th>\n",
       "      <td>-1416.169608</td>\n",
       "      <td>-1415.753731</td>\n",
       "      <td>-2033.980397</td>\n",
       "      <td>-1333.454837</td>\n",
       "      <td>-1415.694394</td>\n",
       "      <td>-1190.935477</td>\n",
       "      <td>-1455.626985</td>\n",
       "      <td>-1791.257225</td>\n",
       "      <td>-1306.094971</td>\n",
       "      <td>-1232.159306</td>\n",
       "      <td>-1459.112693</td>\n",
       "    </tr>\n",
       "    <tr>\n",
       "      <th>Gradient Boosting</th>\n",
       "      <td>-1864.139657</td>\n",
       "      <td>-1334.519121</td>\n",
       "      <td>-2268.400216</td>\n",
       "      <td>-1343.210809</td>\n",
       "      <td>-1580.165534</td>\n",
       "      <td>-1220.870976</td>\n",
       "      <td>-1699.292297</td>\n",
       "      <td>-1714.174341</td>\n",
       "      <td>-1361.122382</td>\n",
       "      <td>-1156.768252</td>\n",
       "      <td>-1554.266358</td>\n",
       "    </tr>\n",
       "    <tr>\n",
       "      <th>Bagging Classifier</th>\n",
       "      <td>-1830.503288</td>\n",
       "      <td>-1475.951438</td>\n",
       "      <td>-2116.375890</td>\n",
       "      <td>-1555.863973</td>\n",
       "      <td>-1473.789041</td>\n",
       "      <td>-1252.431849</td>\n",
       "      <td>-1636.488425</td>\n",
       "      <td>-1936.512329</td>\n",
       "      <td>-1271.992534</td>\n",
       "      <td>-1301.018138</td>\n",
       "      <td>-1585.092691</td>\n",
       "    </tr>\n",
       "    <tr>\n",
       "      <th>K Nearest Neighbour</th>\n",
       "      <td>-2068.960548</td>\n",
       "      <td>-1825.466849</td>\n",
       "      <td>-3615.098356</td>\n",
       "      <td>-2103.243836</td>\n",
       "      <td>-1992.316164</td>\n",
       "      <td>-1840.269041</td>\n",
       "      <td>-2013.213699</td>\n",
       "      <td>-2372.084658</td>\n",
       "      <td>-1741.687945</td>\n",
       "      <td>-1454.816828</td>\n",
       "      <td>-2102.715792</td>\n",
       "    </tr>\n",
       "    <tr>\n",
       "      <th>AdaBoost</th>\n",
       "      <td>-3140.234758</td>\n",
       "      <td>-3349.418203</td>\n",
       "      <td>-4064.498390</td>\n",
       "      <td>-2268.561863</td>\n",
       "      <td>-3036.194425</td>\n",
       "      <td>-2519.256504</td>\n",
       "      <td>-3335.411828</td>\n",
       "      <td>-3170.495100</td>\n",
       "      <td>-3381.973731</td>\n",
       "      <td>-2582.099904</td>\n",
       "      <td>-3084.814471</td>\n",
       "    </tr>\n",
       "    <tr>\n",
       "      <th>Gaussian Process</th>\n",
       "      <td>-3373.628341</td>\n",
       "      <td>-2902.708689</td>\n",
       "      <td>-3502.392658</td>\n",
       "      <td>-3393.670148</td>\n",
       "      <td>-3170.870315</td>\n",
       "      <td>-3227.448185</td>\n",
       "      <td>-3562.349578</td>\n",
       "      <td>-2779.360125</td>\n",
       "      <td>-3517.353567</td>\n",
       "      <td>-3193.324322</td>\n",
       "      <td>-3262.310593</td>\n",
       "    </tr>\n",
       "    <tr>\n",
       "      <th>SVR</th>\n",
       "      <td>-3957.634299</td>\n",
       "      <td>-2667.937623</td>\n",
       "      <td>-4840.582715</td>\n",
       "      <td>-4078.872505</td>\n",
       "      <td>-3804.805825</td>\n",
       "      <td>-3441.727936</td>\n",
       "      <td>-3684.257082</td>\n",
       "      <td>-3151.561956</td>\n",
       "      <td>-3259.966747</td>\n",
       "      <td>-2907.750179</td>\n",
       "      <td>-3579.509687</td>\n",
       "    </tr>\n",
       "  </tbody>\n",
       "</table>\n",
       "</div>"
      ],
      "text/plain": [
       "                               0            1            2            3  \\\n",
       "Extra Trees         -1445.461890 -1229.051882 -1801.024294 -1115.371982   \n",
       "XGBoost             -1365.169771 -1286.919747 -2328.252501 -1272.397165   \n",
       "Random Forest       -1416.169608 -1415.753731 -2033.980397 -1333.454837   \n",
       "Gradient Boosting   -1864.139657 -1334.519121 -2268.400216 -1343.210809   \n",
       "Bagging Classifier  -1830.503288 -1475.951438 -2116.375890 -1555.863973   \n",
       "K Nearest Neighbour -2068.960548 -1825.466849 -3615.098356 -2103.243836   \n",
       "AdaBoost            -3140.234758 -3349.418203 -4064.498390 -2268.561863   \n",
       "Gaussian Process    -3373.628341 -2902.708689 -3502.392658 -3393.670148   \n",
       "SVR                 -3957.634299 -2667.937623 -4840.582715 -4078.872505   \n",
       "\n",
       "                               4            5            6            7  \\\n",
       "Extra Trees         -1229.428142 -1233.242136 -1383.710866 -1786.200302   \n",
       "XGBoost             -1132.344608 -1167.251268 -1261.538433 -1844.037501   \n",
       "Random Forest       -1415.694394 -1190.935477 -1455.626985 -1791.257225   \n",
       "Gradient Boosting   -1580.165534 -1220.870976 -1699.292297 -1714.174341   \n",
       "Bagging Classifier  -1473.789041 -1252.431849 -1636.488425 -1936.512329   \n",
       "K Nearest Neighbour -1992.316164 -1840.269041 -2013.213699 -2372.084658   \n",
       "AdaBoost            -3036.194425 -2519.256504 -3335.411828 -3170.495100   \n",
       "Gaussian Process    -3170.870315 -3227.448185 -3562.349578 -2779.360125   \n",
       "SVR                 -3804.805825 -3441.727936 -3684.257082 -3151.561956   \n",
       "\n",
       "                               8            9         mean  \n",
       "Extra Trees         -1280.099271 -1086.031017 -1358.962178  \n",
       "XGBoost             -1368.891875 -1306.578959 -1433.338183  \n",
       "Random Forest       -1306.094971 -1232.159306 -1459.112693  \n",
       "Gradient Boosting   -1361.122382 -1156.768252 -1554.266358  \n",
       "Bagging Classifier  -1271.992534 -1301.018138 -1585.092691  \n",
       "K Nearest Neighbour -1741.687945 -1454.816828 -2102.715792  \n",
       "AdaBoost            -3381.973731 -2582.099904 -3084.814471  \n",
       "Gaussian Process    -3517.353567 -3193.324322 -3262.310593  \n",
       "SVR                 -3259.966747 -2907.750179 -3579.509687  "
      ]
     },
     "execution_count": 184,
     "metadata": {},
     "output_type": "execute_result"
    }
   ],
   "source": [
    "# 결과 테이블을 만듭니다.\n",
    "results = pd.DataFrame(scores).T\n",
    "results['mean'] = results.mean(1)\n",
    "\n",
    "result_df = results.sort_values(by='mean', ascending=False)#.reset_index()\n",
    "result_df"
   ]
  },
  {
   "cell_type": "code",
   "execution_count": 185,
   "metadata": {},
   "outputs": [
    {
     "data": {
      "image/png": "[encoded data removed]",
      "text/plain": [
       "<Figure size 432x288 with 1 Axes>"
      ]
     },
     "metadata": {},
     "output_type": "display_data"
    }
   ],
   "source": [
    "result_df = result_df.drop(['mean'], axis=1)\n",
    "sns.boxplot(data=result_df.T, orient='h')\n",
    "plt.title('Machine Learning Algorithm Accuracy Score \\n')\n",
    "plt.xlabel('Accuracy Score (%)');"
   ]
  },
  {
   "cell_type": "code",
   "execution_count": 186,
   "metadata": {},
   "outputs": [],
   "source": [
    "# 중요도를 보는 함수를 만듭니다.\n",
    "def importance_plotting(data, xlabel, ylabel, title, n=20):\n",
    "    sns.set(style=\"whitegrid\")\n",
    "    ax = data.tail(n).plot(kind='barh')\n",
    "    \n",
    "    ax.set(title=title, xlabel=xlabel, ylabel=ylabel)\n",
    "    ax.xaxis.grid(False)\n",
    "    ax.yaxis.grid(True)\n",
    "    plt.show()"
   ]
  },
  {
   "cell_type": "code",
   "execution_count": 187,
   "metadata": {},
   "outputs": [
    {
     "data": {
      "text/plain": [
       "array([0.37737954, 0.09506185, 0.3463164 , 0.0237591 , 0.03415502,\n",
       "       0.03048387, 0.03679058, 0.03346181, 0.02259181], dtype=float32)"
      ]
     },
     "execution_count": 187,
     "metadata": {},
     "output_type": "execute_result"
    }
   ],
   "source": [
    "xgb.feature_importances_"
   ]
  },
  {
   "cell_type": "code",
   "execution_count": 188,
   "metadata": {},
   "outputs": [
    {
     "data": {
      "image/png": "[encoded data removed]",
      "text/plain": [
       "<Figure size 432x288 with 1 Axes>"
      ]
     },
     "metadata": {},
     "output_type": "display_data"
    }
   ],
   "source": [
    "# 데이터 프레임에 항목 중요도를 넣습니다.\n",
    "fi = {'Features':temp.columns.tolist(), 'Importance':xgb.feature_importances_}\n",
    "importance = pd.DataFrame(fi, index=fi['Features']).sort_values('Importance', ascending=True)\n",
    "\n",
    "# 그래프 제목\n",
    "title = 'Top 20 most important features in predicting survival on the Titanic: XGB'\n",
    "\n",
    "# 그래프 그리기\n",
    "importance_plotting(importance, 'Importance', 'Features', title, 20)"
   ]
  },
  {
   "cell_type": "code",
   "execution_count": 189,
   "metadata": {},
   "outputs": [
    {
     "data": {
      "text/html": [
       "<div>\n",
       "<style scoped>\n",
       "    .dataframe tbody tr th:only-of-type {\n",
       "        vertical-align: middle;\n",
       "    }\n",
       "\n",
       "    .dataframe tbody tr th {\n",
       "        vertical-align: top;\n",
       "    }\n",
       "\n",
       "    .dataframe thead th {\n",
       "        text-align: right;\n",
       "    }\n",
       "</style>\n",
       "<table border=\"1\" class=\"dataframe\">\n",
       "  <thead>\n",
       "    <tr style=\"text-align: right;\">\n",
       "      <th></th>\n",
       "      <th>Feature</th>\n",
       "      <th>gbr importance</th>\n",
       "      <th>xgb importance</th>\n",
       "      <th>ran importance</th>\n",
       "      <th>ext importance</th>\n",
       "      <th>ada importance</th>\n",
       "      <th>Average</th>\n",
       "    </tr>\n",
       "  </thead>\n",
       "  <tbody>\n",
       "    <tr>\n",
       "      <th>0</th>\n",
       "      <td>hour</td>\n",
       "      <td>0.660196</td>\n",
       "      <td>0.370509</td>\n",
       "      <td>0.589752</td>\n",
       "      <td>0.503940</td>\n",
       "      <td>0.261575</td>\n",
       "      <td>0.477195</td>\n",
       "    </tr>\n",
       "    <tr>\n",
       "      <th>1</th>\n",
       "      <td>hour_bef_temperature</td>\n",
       "      <td>0.206299</td>\n",
       "      <td>0.087804</td>\n",
       "      <td>0.178390</td>\n",
       "      <td>0.196185</td>\n",
       "      <td>0.269741</td>\n",
       "      <td>0.187684</td>\n",
       "    </tr>\n",
       "    <tr>\n",
       "      <th>2</th>\n",
       "      <td>hour_bef_precipitation</td>\n",
       "      <td>0.026786</td>\n",
       "      <td>0.373968</td>\n",
       "      <td>0.024349</td>\n",
       "      <td>0.032234</td>\n",
       "      <td>0.038612</td>\n",
       "      <td>0.099190</td>\n",
       "    </tr>\n",
       "    <tr>\n",
       "      <th>3</th>\n",
       "      <td>hour_bef_ozone</td>\n",
       "      <td>0.027365</td>\n",
       "      <td>0.038468</td>\n",
       "      <td>0.042796</td>\n",
       "      <td>0.052766</td>\n",
       "      <td>0.128557</td>\n",
       "      <td>0.057990</td>\n",
       "    </tr>\n",
       "    <tr>\n",
       "      <th>4</th>\n",
       "      <td>hour_bef_humidity</td>\n",
       "      <td>0.015732</td>\n",
       "      <td>0.030463</td>\n",
       "      <td>0.039494</td>\n",
       "      <td>0.062238</td>\n",
       "      <td>0.110259</td>\n",
       "      <td>0.051637</td>\n",
       "    </tr>\n",
       "    <tr>\n",
       "      <th>5</th>\n",
       "      <td>hour_bef_visibility</td>\n",
       "      <td>0.025558</td>\n",
       "      <td>0.028226</td>\n",
       "      <td>0.036778</td>\n",
       "      <td>0.041130</td>\n",
       "      <td>0.058406</td>\n",
       "      <td>0.038020</td>\n",
       "    </tr>\n",
       "    <tr>\n",
       "      <th>6</th>\n",
       "      <td>hour_bef_pm10</td>\n",
       "      <td>0.018513</td>\n",
       "      <td>0.027884</td>\n",
       "      <td>0.034915</td>\n",
       "      <td>0.034419</td>\n",
       "      <td>0.045199</td>\n",
       "      <td>0.032186</td>\n",
       "    </tr>\n",
       "    <tr>\n",
       "      <th>7</th>\n",
       "      <td>hour_bef_windspeed</td>\n",
       "      <td>0.008127</td>\n",
       "      <td>0.019074</td>\n",
       "      <td>0.028070</td>\n",
       "      <td>0.048592</td>\n",
       "      <td>0.047876</td>\n",
       "      <td>0.030348</td>\n",
       "    </tr>\n",
       "    <tr>\n",
       "      <th>8</th>\n",
       "      <td>hour_bef_pm2.5</td>\n",
       "      <td>0.011423</td>\n",
       "      <td>0.023602</td>\n",
       "      <td>0.025455</td>\n",
       "      <td>0.028495</td>\n",
       "      <td>0.039775</td>\n",
       "      <td>0.025750</td>\n",
       "    </tr>\n",
       "  </tbody>\n",
       "</table>\n",
       "</div>"
      ],
      "text/plain": [
       "                  Feature  gbr importance  xgb importance  ran importance  \\\n",
       "0                    hour        0.660196        0.370509        0.589752   \n",
       "1    hour_bef_temperature        0.206299        0.087804        0.178390   \n",
       "2  hour_bef_precipitation        0.026786        0.373968        0.024349   \n",
       "3          hour_bef_ozone        0.027365        0.038468        0.042796   \n",
       "4       hour_bef_humidity        0.015732        0.030463        0.039494   \n",
       "5     hour_bef_visibility        0.025558        0.028226        0.036778   \n",
       "6           hour_bef_pm10        0.018513        0.027884        0.034915   \n",
       "7      hour_bef_windspeed        0.008127        0.019074        0.028070   \n",
       "8          hour_bef_pm2.5        0.011423        0.023602        0.025455   \n",
       "\n",
       "   ext importance  ada importance   Average  \n",
       "0        0.503940        0.261575  0.477195  \n",
       "1        0.196185        0.269741  0.187684  \n",
       "2        0.032234        0.038612  0.099190  \n",
       "3        0.052766        0.128557  0.057990  \n",
       "4        0.062238        0.110259  0.051637  \n",
       "5        0.041130        0.058406  0.038020  \n",
       "6        0.034419        0.045199  0.032186  \n",
       "7        0.048592        0.047876  0.030348  \n",
       "8        0.028495        0.039775  0.025750  "
      ]
     },
     "execution_count": 189,
     "metadata": {},
     "output_type": "execute_result"
    }
   ],
   "source": [
    "importances"
   ]
  },
  {
   "cell_type": "markdown",
   "metadata": {},
   "source": [
    "## Hyperparameter tunning"
   ]
  },
  {
   "cell_type": "code",
   "execution_count": 190,
   "metadata": {},
   "outputs": [
    {
     "name": "stdout",
     "output_type": "stream",
     "text": [
      "Fitting 5 folds for each of 24 candidates, totalling 120 fits\n"
     ]
    },
    {
     "name": "stderr",
     "output_type": "stream",
     "text": [
      "[Parallel(n_jobs=-1)]: Using backend LokyBackend with 24 concurrent workers.\n",
      "[Parallel(n_jobs=-1)]: Done   2 tasks      | elapsed:    0.0s\n"
     ]
    },
    {
     "name": "stdout",
     "output_type": "stream",
     "text": [
      "-2288.1976694533837\n",
      "{'C': 50, 'gamma': 0.1}\n"
     ]
    },
    {
     "name": "stderr",
     "output_type": "stream",
     "text": [
      "[Parallel(n_jobs=-1)]: Done 120 out of 120 | elapsed:    0.2s finished\n"
     ]
    }
   ],
   "source": [
    "# 파라미터 서치\n",
    "Cs = [0.01, 0.1, 1, 5, 10, 15, 20, 50]\n",
    "gammas = [0.001, 0.01, 0.1]\n",
    "\n",
    "# 파라미터 그리드 셋팅\n",
    "hyperparams = {'C': Cs, 'gamma' : gammas}\n",
    "\n",
    "# 교차검증\n",
    "gd=GridSearchCV(estimator = SVR(), param_grid = hyperparams, \n",
    "                verbose=True, cv=5, scoring=scoring, n_jobs=-1)\n",
    "\n",
    "# 모델 fiting 및 결과\n",
    "gd.fit(X_train, y_train)\n",
    "print(gd.best_score_)\n",
    "print(gd.best_params_)"
   ]
  },
  {
   "cell_type": "code",
   "execution_count": 191,
   "metadata": {},
   "outputs": [
    {
     "name": "stderr",
     "output_type": "stream",
     "text": [
      "[Parallel(n_jobs=-1)]: Using backend LokyBackend with 24 concurrent workers.\n",
      "[Parallel(n_jobs=-1)]: Done   2 tasks      | elapsed:    0.1s\n"
     ]
    },
    {
     "name": "stdout",
     "output_type": "stream",
     "text": [
      "Fitting 5 folds for each of 15 candidates, totalling 75 fits\n"
     ]
    },
    {
     "name": "stderr",
     "output_type": "stream",
     "text": [
      "[Parallel(n_jobs=-1)]: Done  75 out of  75 | elapsed:    5.5s finished\n"
     ]
    },
    {
     "name": "stdout",
     "output_type": "stream",
     "text": [
      "-1558.6658501295126\n",
      "{'learning_rate': 0.01, 'n_estimators': 2000}\n"
     ]
    }
   ],
   "source": [
    "learning_rate = [0.01, 0.05, 0.1, 0.2, 0.5]\n",
    "n_estimators = [100, 1000, 2000]\n",
    "max_depth = [3, 5, 10, 15]\n",
    "\n",
    "hyperparams = {'learning_rate': learning_rate, 'n_estimators': n_estimators}\n",
    "\n",
    "gd=GridSearchCV(estimator = GradientBoostingRegressor(), param_grid = hyperparams, \n",
    "                verbose=True, cv=5, scoring=scoring, n_jobs=-1)\n",
    "\n",
    "gd.fit(X_train, y_train)\n",
    "print(gd.best_score_)\n",
    "print(gd.best_params_)"
   ]
  },
  {
   "cell_type": "code",
   "execution_count": 192,
   "metadata": {},
   "outputs": [
    {
     "name": "stdout",
     "output_type": "stream",
     "text": [
      "Fitting 5 folds for each of 20 candidates, totalling 100 fits\n"
     ]
    },
    {
     "name": "stderr",
     "output_type": "stream",
     "text": [
      "[Parallel(n_jobs=-1)]: Using backend LokyBackend with 24 concurrent workers.\n",
      "[Parallel(n_jobs=-1)]: Done   2 tasks      | elapsed:    0.0s\n",
      "[Parallel(n_jobs=-1)]: Done  53 out of 100 | elapsed:    6.7s remaining:    6.0s\n",
      "[Parallel(n_jobs=-1)]: Done 100 out of 100 | elapsed:   14.1s finished\n"
     ]
    },
    {
     "name": "stdout",
     "output_type": "stream",
     "text": [
      "-3623.5413147860477\n",
      "{'C': 2.7825594022071245, 'penalty': 'l2'}\n"
     ]
    }
   ],
   "source": [
    "penalty = ['l1', 'l2']\n",
    "C = np.logspace(0, 4, 10)\n",
    "\n",
    "hyperparams = {'penalty': penalty, 'C': C}\n",
    "\n",
    "gd=GridSearchCV(estimator = LogisticRegression(), param_grid = hyperparams, \n",
    "                verbose=True, cv=5, scoring=scoring, n_jobs=-1)\n",
    "\n",
    "gd.fit(X_train, y_train)\n",
    "print(gd.best_score_)\n",
    "print(gd.best_params_)"
   ]
  },
  {
   "cell_type": "markdown",
   "metadata": {},
   "source": [
    "### XGBoost steps"
   ]
  },
  {
   "cell_type": "code",
   "execution_count": 193,
   "metadata": {},
   "outputs": [
    {
     "name": "stdout",
     "output_type": "stream",
     "text": [
      "Fitting 5 folds for each of 36 candidates, totalling 180 fits\n"
     ]
    },
    {
     "name": "stderr",
     "output_type": "stream",
     "text": [
      "[Parallel(n_jobs=-1)]: Using backend LokyBackend with 24 concurrent workers.\n",
      "[Parallel(n_jobs=-1)]: Done   2 tasks      | elapsed:    0.0s\n",
      "[Parallel(n_jobs=-1)]: Done 133 out of 180 | elapsed:    2.0s remaining:    0.7s\n",
      "[Parallel(n_jobs=-1)]: Done 180 out of 180 | elapsed:    3.2s finished\n"
     ]
    },
    {
     "name": "stdout",
     "output_type": "stream",
     "text": [
      "-1449.5645630474562\n",
      "{'learning_rate': 0.05, 'n_estimators': 500}\n"
     ]
    }
   ],
   "source": [
    "learning_rate = [0.001, 0.005, 0.01, 0.05, 0.1, 0.2]\n",
    "n_estimators = [10, 50, 100, 250, 500, 1000]\n",
    "\n",
    "hyperparams = {'learning_rate': learning_rate, 'n_estimators': n_estimators}\n",
    "\n",
    "gd=GridSearchCV(estimator = XGBRegressor(), param_grid = hyperparams, \n",
    "                verbose=True, cv=5, scoring=scoring, n_jobs=-1)\n",
    "\n",
    "gd.fit(X_train, y_train)\n",
    "print(gd.best_score_)\n",
    "print(gd.best_params_)"
   ]
  },
  {
   "cell_type": "code",
   "execution_count": 194,
   "metadata": {},
   "outputs": [
    {
     "name": "stdout",
     "output_type": "stream",
     "text": [
      "Fitting 5 folds for each of 48 candidates, totalling 240 fits\n"
     ]
    },
    {
     "name": "stderr",
     "output_type": "stream",
     "text": [
      "[Parallel(n_jobs=-1)]: Using backend LokyBackend with 24 concurrent workers.\n",
      "[Parallel(n_jobs=-1)]: Done   2 tasks      | elapsed:    0.1s\n"
     ]
    },
    {
     "ename": "KeyboardInterrupt",
     "evalue": "",
     "output_type": "error",
     "traceback": [
      "\u001b[1;31m---------------------------------------------------------------------------\u001b[0m",
      "\u001b[1;31mKeyboardInterrupt\u001b[0m                         Traceback (most recent call last)",
      "\u001b[1;32m~\\AppData\\Local\\Temp\\ipykernel_15032\\1542325237.py\u001b[0m in \u001b[0;36m<module>\u001b[1;34m\u001b[0m\n\u001b[0;32m      7\u001b[0m                 verbose=True, cv=5, scoring=scoring, n_jobs=-1)\n\u001b[0;32m      8\u001b[0m \u001b[1;33m\u001b[0m\u001b[0m\n\u001b[1;32m----> 9\u001b[1;33m \u001b[0mgd\u001b[0m\u001b[1;33m.\u001b[0m\u001b[0mfit\u001b[0m\u001b[1;33m(\u001b[0m\u001b[0mX_train\u001b[0m\u001b[1;33m,\u001b[0m \u001b[0my_train\u001b[0m\u001b[1;33m)\u001b[0m\u001b[1;33m\u001b[0m\u001b[1;33m\u001b[0m\u001b[0m\n\u001b[0m\u001b[0;32m     10\u001b[0m \u001b[0mprint\u001b[0m\u001b[1;33m(\u001b[0m\u001b[0mgd\u001b[0m\u001b[1;33m.\u001b[0m\u001b[0mbest_score_\u001b[0m\u001b[1;33m)\u001b[0m\u001b[1;33m\u001b[0m\u001b[1;33m\u001b[0m\u001b[0m\n\u001b[0;32m     11\u001b[0m \u001b[0mprint\u001b[0m\u001b[1;33m(\u001b[0m\u001b[0mgd\u001b[0m\u001b[1;33m.\u001b[0m\u001b[0mbest_params_\u001b[0m\u001b[1;33m)\u001b[0m\u001b[1;33m\u001b[0m\u001b[1;33m\u001b[0m\u001b[0m\n",
      "\u001b[1;32m~\\anaconda3\\lib\\site-packages\\sklearn\\model_selection\\_search.py\u001b[0m in \u001b[0;36mfit\u001b[1;34m(self, X, y, groups, **fit_params)\u001b[0m\n\u001b[0;32m    708\u001b[0m                 \u001b[1;32mreturn\u001b[0m \u001b[0mresults\u001b[0m\u001b[1;33m\u001b[0m\u001b[1;33m\u001b[0m\u001b[0m\n\u001b[0;32m    709\u001b[0m \u001b[1;33m\u001b[0m\u001b[0m\n\u001b[1;32m--> 710\u001b[1;33m             \u001b[0mself\u001b[0m\u001b[1;33m.\u001b[0m\u001b[0m_run_search\u001b[0m\u001b[1;33m(\u001b[0m\u001b[0mevaluate_candidates\u001b[0m\u001b[1;33m)\u001b[0m\u001b[1;33m\u001b[0m\u001b[1;33m\u001b[0m\u001b[0m\n\u001b[0m\u001b[0;32m    711\u001b[0m \u001b[1;33m\u001b[0m\u001b[0m\n\u001b[0;32m    712\u001b[0m         \u001b[1;31m# For multi-metric evaluation, store the best_index_, best_params_ and\u001b[0m\u001b[1;33m\u001b[0m\u001b[1;33m\u001b[0m\u001b[1;33m\u001b[0m\u001b[0m\n",
      "\u001b[1;32m~\\anaconda3\\lib\\site-packages\\sklearn\\model_selection\\_search.py\u001b[0m in \u001b[0;36m_run_search\u001b[1;34m(self, evaluate_candidates)\u001b[0m\n\u001b[0;32m   1149\u001b[0m     \u001b[1;32mdef\u001b[0m \u001b[0m_run_search\u001b[0m\u001b[1;33m(\u001b[0m\u001b[0mself\u001b[0m\u001b[1;33m,\u001b[0m \u001b[0mevaluate_candidates\u001b[0m\u001b[1;33m)\u001b[0m\u001b[1;33m:\u001b[0m\u001b[1;33m\u001b[0m\u001b[1;33m\u001b[0m\u001b[0m\n\u001b[0;32m   1150\u001b[0m         \u001b[1;34m\"\"\"Search all candidates in param_grid\"\"\"\u001b[0m\u001b[1;33m\u001b[0m\u001b[1;33m\u001b[0m\u001b[0m\n\u001b[1;32m-> 1151\u001b[1;33m         \u001b[0mevaluate_candidates\u001b[0m\u001b[1;33m(\u001b[0m\u001b[0mParameterGrid\u001b[0m\u001b[1;33m(\u001b[0m\u001b[0mself\u001b[0m\u001b[1;33m.\u001b[0m\u001b[0mparam_grid\u001b[0m\u001b[1;33m)\u001b[0m\u001b[1;33m)\u001b[0m\u001b[1;33m\u001b[0m\u001b[1;33m\u001b[0m\u001b[0m\n\u001b[0m\u001b[0;32m   1152\u001b[0m \u001b[1;33m\u001b[0m\u001b[0m\n\u001b[0;32m   1153\u001b[0m \u001b[1;33m\u001b[0m\u001b[0m\n",
      "\u001b[1;32m~\\anaconda3\\lib\\site-packages\\sklearn\\model_selection\\_search.py\u001b[0m in \u001b[0;36mevaluate_candidates\u001b[1;34m(candidate_params)\u001b[0m\n\u001b[0;32m    687\u001b[0m                                \u001b[1;32mfor\u001b[0m \u001b[0mparameters\u001b[0m\u001b[1;33m,\u001b[0m \u001b[1;33m(\u001b[0m\u001b[0mtrain\u001b[0m\u001b[1;33m,\u001b[0m \u001b[0mtest\u001b[0m\u001b[1;33m)\u001b[0m\u001b[1;33m\u001b[0m\u001b[1;33m\u001b[0m\u001b[0m\n\u001b[0;32m    688\u001b[0m                                in product(candidate_params,\n\u001b[1;32m--> 689\u001b[1;33m                                           cv.split(X, y, groups)))\n\u001b[0m\u001b[0;32m    690\u001b[0m \u001b[1;33m\u001b[0m\u001b[0m\n\u001b[0;32m    691\u001b[0m                 \u001b[1;32mif\u001b[0m \u001b[0mlen\u001b[0m\u001b[1;33m(\u001b[0m\u001b[0mout\u001b[0m\u001b[1;33m)\u001b[0m \u001b[1;33m<\u001b[0m \u001b[1;36m1\u001b[0m\u001b[1;33m:\u001b[0m\u001b[1;33m\u001b[0m\u001b[1;33m\u001b[0m\u001b[0m\n",
      "\u001b[1;32m~\\anaconda3\\lib\\site-packages\\joblib\\parallel.py\u001b[0m in \u001b[0;36m__call__\u001b[1;34m(self, iterable)\u001b[0m\n\u001b[0;32m   1015\u001b[0m \u001b[1;33m\u001b[0m\u001b[0m\n\u001b[0;32m   1016\u001b[0m             \u001b[1;32mwith\u001b[0m \u001b[0mself\u001b[0m\u001b[1;33m.\u001b[0m\u001b[0m_backend\u001b[0m\u001b[1;33m.\u001b[0m\u001b[0mretrieval_context\u001b[0m\u001b[1;33m(\u001b[0m\u001b[1;33m)\u001b[0m\u001b[1;33m:\u001b[0m\u001b[1;33m\u001b[0m\u001b[1;33m\u001b[0m\u001b[0m\n\u001b[1;32m-> 1017\u001b[1;33m                 \u001b[0mself\u001b[0m\u001b[1;33m.\u001b[0m\u001b[0mretrieve\u001b[0m\u001b[1;33m(\u001b[0m\u001b[1;33m)\u001b[0m\u001b[1;33m\u001b[0m\u001b[1;33m\u001b[0m\u001b[0m\n\u001b[0m\u001b[0;32m   1018\u001b[0m             \u001b[1;31m# Make sure that we get a last message telling us we are done\u001b[0m\u001b[1;33m\u001b[0m\u001b[1;33m\u001b[0m\u001b[1;33m\u001b[0m\u001b[0m\n\u001b[0;32m   1019\u001b[0m             \u001b[0melapsed_time\u001b[0m \u001b[1;33m=\u001b[0m \u001b[0mtime\u001b[0m\u001b[1;33m.\u001b[0m\u001b[0mtime\u001b[0m\u001b[1;33m(\u001b[0m\u001b[1;33m)\u001b[0m \u001b[1;33m-\u001b[0m \u001b[0mself\u001b[0m\u001b[1;33m.\u001b[0m\u001b[0m_start_time\u001b[0m\u001b[1;33m\u001b[0m\u001b[1;33m\u001b[0m\u001b[0m\n",
      "\u001b[1;32m~\\anaconda3\\lib\\site-packages\\joblib\\parallel.py\u001b[0m in \u001b[0;36mretrieve\u001b[1;34m(self)\u001b[0m\n\u001b[0;32m    907\u001b[0m             \u001b[1;32mtry\u001b[0m\u001b[1;33m:\u001b[0m\u001b[1;33m\u001b[0m\u001b[1;33m\u001b[0m\u001b[0m\n\u001b[0;32m    908\u001b[0m                 \u001b[1;32mif\u001b[0m \u001b[0mgetattr\u001b[0m\u001b[1;33m(\u001b[0m\u001b[0mself\u001b[0m\u001b[1;33m.\u001b[0m\u001b[0m_backend\u001b[0m\u001b[1;33m,\u001b[0m \u001b[1;34m'supports_timeout'\u001b[0m\u001b[1;33m,\u001b[0m \u001b[1;32mFalse\u001b[0m\u001b[1;33m)\u001b[0m\u001b[1;33m:\u001b[0m\u001b[1;33m\u001b[0m\u001b[1;33m\u001b[0m\u001b[0m\n\u001b[1;32m--> 909\u001b[1;33m                     \u001b[0mself\u001b[0m\u001b[1;33m.\u001b[0m\u001b[0m_output\u001b[0m\u001b[1;33m.\u001b[0m\u001b[0mextend\u001b[0m\u001b[1;33m(\u001b[0m\u001b[0mjob\u001b[0m\u001b[1;33m.\u001b[0m\u001b[0mget\u001b[0m\u001b[1;33m(\u001b[0m\u001b[0mtimeout\u001b[0m\u001b[1;33m=\u001b[0m\u001b[0mself\u001b[0m\u001b[1;33m.\u001b[0m\u001b[0mtimeout\u001b[0m\u001b[1;33m)\u001b[0m\u001b[1;33m)\u001b[0m\u001b[1;33m\u001b[0m\u001b[1;33m\u001b[0m\u001b[0m\n\u001b[0m\u001b[0;32m    910\u001b[0m                 \u001b[1;32melse\u001b[0m\u001b[1;33m:\u001b[0m\u001b[1;33m\u001b[0m\u001b[1;33m\u001b[0m\u001b[0m\n\u001b[0;32m    911\u001b[0m                     \u001b[0mself\u001b[0m\u001b[1;33m.\u001b[0m\u001b[0m_output\u001b[0m\u001b[1;33m.\u001b[0m\u001b[0mextend\u001b[0m\u001b[1;33m(\u001b[0m\u001b[0mjob\u001b[0m\u001b[1;33m.\u001b[0m\u001b[0mget\u001b[0m\u001b[1;33m(\u001b[0m\u001b[1;33m)\u001b[0m\u001b[1;33m)\u001b[0m\u001b[1;33m\u001b[0m\u001b[1;33m\u001b[0m\u001b[0m\n",
      "\u001b[1;32m~\\anaconda3\\lib\\site-packages\\joblib\\_parallel_backends.py\u001b[0m in \u001b[0;36mwrap_future_result\u001b[1;34m(future, timeout)\u001b[0m\n\u001b[0;32m    560\u001b[0m         AsyncResults.get from multiprocessing.\"\"\"\n\u001b[0;32m    561\u001b[0m         \u001b[1;32mtry\u001b[0m\u001b[1;33m:\u001b[0m\u001b[1;33m\u001b[0m\u001b[1;33m\u001b[0m\u001b[0m\n\u001b[1;32m--> 562\u001b[1;33m             \u001b[1;32mreturn\u001b[0m \u001b[0mfuture\u001b[0m\u001b[1;33m.\u001b[0m\u001b[0mresult\u001b[0m\u001b[1;33m(\u001b[0m\u001b[0mtimeout\u001b[0m\u001b[1;33m=\u001b[0m\u001b[0mtimeout\u001b[0m\u001b[1;33m)\u001b[0m\u001b[1;33m\u001b[0m\u001b[1;33m\u001b[0m\u001b[0m\n\u001b[0m\u001b[0;32m    563\u001b[0m         \u001b[1;32mexcept\u001b[0m \u001b[0mLokyTimeoutError\u001b[0m\u001b[1;33m:\u001b[0m\u001b[1;33m\u001b[0m\u001b[1;33m\u001b[0m\u001b[0m\n\u001b[0;32m    564\u001b[0m             \u001b[1;32mraise\u001b[0m \u001b[0mTimeoutError\u001b[0m\u001b[1;33m(\u001b[0m\u001b[1;33m)\u001b[0m\u001b[1;33m\u001b[0m\u001b[1;33m\u001b[0m\u001b[0m\n",
      "\u001b[1;32m~\\anaconda3\\lib\\concurrent\\futures\\_base.py\u001b[0m in \u001b[0;36mresult\u001b[1;34m(self, timeout)\u001b[0m\n\u001b[0;32m    428\u001b[0m                 \u001b[1;32mreturn\u001b[0m \u001b[0mself\u001b[0m\u001b[1;33m.\u001b[0m\u001b[0m__get_result\u001b[0m\u001b[1;33m(\u001b[0m\u001b[1;33m)\u001b[0m\u001b[1;33m\u001b[0m\u001b[1;33m\u001b[0m\u001b[0m\n\u001b[0;32m    429\u001b[0m \u001b[1;33m\u001b[0m\u001b[0m\n\u001b[1;32m--> 430\u001b[1;33m             \u001b[0mself\u001b[0m\u001b[1;33m.\u001b[0m\u001b[0m_condition\u001b[0m\u001b[1;33m.\u001b[0m\u001b[0mwait\u001b[0m\u001b[1;33m(\u001b[0m\u001b[0mtimeout\u001b[0m\u001b[1;33m)\u001b[0m\u001b[1;33m\u001b[0m\u001b[1;33m\u001b[0m\u001b[0m\n\u001b[0m\u001b[0;32m    431\u001b[0m \u001b[1;33m\u001b[0m\u001b[0m\n\u001b[0;32m    432\u001b[0m             \u001b[1;32mif\u001b[0m \u001b[0mself\u001b[0m\u001b[1;33m.\u001b[0m\u001b[0m_state\u001b[0m \u001b[1;32min\u001b[0m \u001b[1;33m[\u001b[0m\u001b[0mCANCELLED\u001b[0m\u001b[1;33m,\u001b[0m \u001b[0mCANCELLED_AND_NOTIFIED\u001b[0m\u001b[1;33m]\u001b[0m\u001b[1;33m:\u001b[0m\u001b[1;33m\u001b[0m\u001b[1;33m\u001b[0m\u001b[0m\n",
      "\u001b[1;32m~\\anaconda3\\lib\\threading.py\u001b[0m in \u001b[0;36mwait\u001b[1;34m(self, timeout)\u001b[0m\n\u001b[0;32m    294\u001b[0m         \u001b[1;32mtry\u001b[0m\u001b[1;33m:\u001b[0m    \u001b[1;31m# restore state no matter what (e.g., KeyboardInterrupt)\u001b[0m\u001b[1;33m\u001b[0m\u001b[1;33m\u001b[0m\u001b[0m\n\u001b[0;32m    295\u001b[0m             \u001b[1;32mif\u001b[0m \u001b[0mtimeout\u001b[0m \u001b[1;32mis\u001b[0m \u001b[1;32mNone\u001b[0m\u001b[1;33m:\u001b[0m\u001b[1;33m\u001b[0m\u001b[1;33m\u001b[0m\u001b[0m\n\u001b[1;32m--> 296\u001b[1;33m                 \u001b[0mwaiter\u001b[0m\u001b[1;33m.\u001b[0m\u001b[0macquire\u001b[0m\u001b[1;33m(\u001b[0m\u001b[1;33m)\u001b[0m\u001b[1;33m\u001b[0m\u001b[1;33m\u001b[0m\u001b[0m\n\u001b[0m\u001b[0;32m    297\u001b[0m                 \u001b[0mgotit\u001b[0m \u001b[1;33m=\u001b[0m \u001b[1;32mTrue\u001b[0m\u001b[1;33m\u001b[0m\u001b[1;33m\u001b[0m\u001b[0m\n\u001b[0;32m    298\u001b[0m             \u001b[1;32melse\u001b[0m\u001b[1;33m:\u001b[0m\u001b[1;33m\u001b[0m\u001b[1;33m\u001b[0m\u001b[0m\n",
      "\u001b[1;31mKeyboardInterrupt\u001b[0m: "
     ]
    }
   ],
   "source": [
    "max_depth = [3, 4, 5, 6, 7, 8, 9, 10]\n",
    "min_child_weight = [1, 2, 3, 4, 5, 6]\n",
    "\n",
    "hyperparams = {'max_depth': max_depth, 'min_child_weight': min_child_weight}\n",
    "\n",
    "gd=GridSearchCV(estimator = XGBRegressor(learning_rate=0.1, n_estimators=250), param_grid = hyperparams, \n",
    "                verbose=True, cv=5, scoring=scoring, n_jobs=-1)\n",
    "\n",
    "gd.fit(X_train, y_train)\n",
    "print(gd.best_score_)\n",
    "print(gd.best_params_)"
   ]
  },
  {
   "cell_type": "code",
   "execution_count": null,
   "metadata": {},
   "outputs": [
    {
     "name": "stdout",
     "output_type": "stream",
     "text": [
      "Fitting 5 folds for each of 5 candidates, totalling 25 fits\n"
     ]
    },
    {
     "name": "stderr",
     "output_type": "stream",
     "text": [
      "[Parallel(n_jobs=-1)]: Using backend LokyBackend with 24 concurrent workers.\n",
      "[Parallel(n_jobs=-1)]: Done   4 out of  25 | elapsed:    0.3s remaining:    2.0s\n",
      "[Parallel(n_jobs=-1)]: Done  25 out of  25 | elapsed:    0.5s finished\n"
     ]
    },
    {
     "name": "stdout",
     "output_type": "stream",
     "text": [
      "-1415.076069272493\n",
      "{'gamma': 0.4}\n"
     ]
    }
   ],
   "source": [
    "gamma = [i*0.1 for i in range(0,5)]\n",
    "\n",
    "hyperparams = {'gamma': gamma}\n",
    "\n",
    "gd=GridSearchCV(estimator = XGBRegressor(learning_rate=0.1, n_estimators=250, max_depth=7, \n",
    "                                          min_child_weight=2), param_grid = hyperparams, \n",
    "                verbose=True, cv=5, scoring=scoring, n_jobs=-1)\n",
    "\n",
    "gd.fit(X_train, y_train)\n",
    "print(gd.best_score_)\n",
    "print(gd.best_params_)"
   ]
  },
  {
   "cell_type": "code",
   "execution_count": null,
   "metadata": {},
   "outputs": [
    {
     "name": "stdout",
     "output_type": "stream",
     "text": [
      "Fitting 5 folds for each of 81 candidates, totalling 405 fits\n"
     ]
    },
    {
     "name": "stderr",
     "output_type": "stream",
     "text": [
      "[Parallel(n_jobs=-1)]: Using backend LokyBackend with 24 concurrent workers.\n",
      "[Parallel(n_jobs=-1)]: Done   2 tasks      | elapsed:    0.2s\n",
      "[Parallel(n_jobs=-1)]: Done 152 tasks      | elapsed:    2.0s\n"
     ]
    },
    {
     "name": "stdout",
     "output_type": "stream",
     "text": [
      "-1394.1533407689908\n",
      "{'colsample_bytree': 0.9, 'subsample': 0.8}\n"
     ]
    },
    {
     "name": "stderr",
     "output_type": "stream",
     "text": [
      "[Parallel(n_jobs=-1)]: Done 405 out of 405 | elapsed:    5.9s finished\n"
     ]
    }
   ],
   "source": [
    "subsample = [0.6, 0.65, 0.7, 0.75, 0.8, 0.85, 0.9, 0.95, 1]\n",
    "colsample_bytree = [0.6, 0.65, 0.7, 0.75, 0.8, 0.85, 0.9, 0.95, 1]\n",
    "    \n",
    "hyperparams = {'subsample': subsample, 'colsample_bytree': colsample_bytree}\n",
    "\n",
    "gd=GridSearchCV(estimator = XGBRegressor(learning_rate=0.1, n_estimators=250, max_depth=7, \n",
    "                                          min_child_weight=2, gamma=0.4), param_grid = hyperparams, \n",
    "                verbose=True, cv=5, scoring=scoring, n_jobs=-1)\n",
    "\n",
    "gd.fit(X_train, y_train)\n",
    "print(gd.best_score_)\n",
    "print(gd.best_params_)"
   ]
  },
  {
   "cell_type": "code",
   "execution_count": null,
   "metadata": {},
   "outputs": [
    {
     "name": "stdout",
     "output_type": "stream",
     "text": [
      "Fitting 5 folds for each of 5 candidates, totalling 25 fits\n"
     ]
    },
    {
     "name": "stderr",
     "output_type": "stream",
     "text": [
      "[Parallel(n_jobs=-1)]: Using backend LokyBackend with 24 concurrent workers.\n",
      "[Parallel(n_jobs=-1)]: Done   4 out of  25 | elapsed:    0.9s remaining:    5.1s\n",
      "[Parallel(n_jobs=-1)]: Done  25 out of  25 | elapsed:    1.3s finished\n"
     ]
    },
    {
     "name": "stdout",
     "output_type": "stream",
     "text": [
      "-1378.3422462681374\n",
      "{'reg_alpha': 0.1}\n"
     ]
    }
   ],
   "source": [
    "reg_alpha = [1e-5, 1e-2, 0.1, 1, 100]\n",
    "    \n",
    "hyperparams = {'reg_alpha': reg_alpha}\n",
    "\n",
    "gd=GridSearchCV(estimator = XGBRegressor(learning_rate=0.1, n_estimators=250, max_depth=7, \n",
    "                                          min_child_weight=2, gamma=0.4, subsample=0.8, colsample_bytree=0.9), param_grid = hyperparams, \n",
    "                verbose=True, cv=5, scoring=scoring, n_jobs=-1)\n",
    "\n",
    "gd.fit(X_train, y_train)\n",
    "print(gd.best_score_)\n",
    "print(gd.best_params_)"
   ]
  },
  {
   "cell_type": "code",
   "execution_count": null,
   "metadata": {},
   "outputs": [
    {
     "name": "stdout",
     "output_type": "stream",
     "text": [
      "Fitting 5 folds for each of 4 candidates, totalling 20 fits\n"
     ]
    },
    {
     "name": "stderr",
     "output_type": "stream",
     "text": [
      "[Parallel(n_jobs=-1)]: Using backend LokyBackend with 24 concurrent workers.\n"
     ]
    },
    {
     "name": "stdout",
     "output_type": "stream",
     "text": [
      "-3353.133749647469\n",
      "{'n_restarts_optimizer': 0}\n"
     ]
    },
    {
     "name": "stderr",
     "output_type": "stream",
     "text": [
      "[Parallel(n_jobs=-1)]: Done  15 out of  20 | elapsed:    0.5s remaining:    0.1s\n",
      "[Parallel(n_jobs=-1)]: Done  20 out of  20 | elapsed:    0.5s finished\n"
     ]
    }
   ],
   "source": [
    "n_restarts_optimizer = [0, 1, 2, 3]\n",
    "\n",
    "hyperparams = {'n_restarts_optimizer': n_restarts_optimizer}\n",
    "\n",
    "gd=GridSearchCV(estimator = GaussianProcessRegressor(), param_grid = hyperparams, \n",
    "                verbose=True, cv=5, scoring=scoring, n_jobs=-1)\n",
    "\n",
    "gd.fit(X_train, y_train)\n",
    "print(gd.best_score_)\n",
    "print(gd.best_params_)"
   ]
  },
  {
   "cell_type": "code",
   "execution_count": null,
   "metadata": {},
   "outputs": [
    {
     "name": "stdout",
     "output_type": "stream",
     "text": [
      "Fitting 5 folds for each of 28 candidates, totalling 140 fits\n"
     ]
    },
    {
     "name": "stderr",
     "output_type": "stream",
     "text": [
      "[Parallel(n_jobs=-1)]: Using backend LokyBackend with 24 concurrent workers.\n",
      "[Parallel(n_jobs=-1)]: Done   2 tasks      | elapsed:    0.0s\n",
      "[Parallel(n_jobs=-1)]: Done  93 out of 140 | elapsed:    5.0s remaining:    2.5s\n",
      "[Parallel(n_jobs=-1)]: Done 140 out of 140 | elapsed:    7.4s finished\n"
     ]
    },
    {
     "name": "stdout",
     "output_type": "stream",
     "text": [
      "-2168.8474895387326\n",
      "{'learning_rate': 0.1, 'n_estimators': 100}\n"
     ]
    }
   ],
   "source": [
    "n_estimators = [10, 100, 200, 500]\n",
    "learning_rate = [0.001, 0.01, 0.1, 0.5, 1, 1.5, 2]\n",
    "\n",
    "hyperparams = {'n_estimators': n_estimators, 'learning_rate': learning_rate}\n",
    "\n",
    "gd=GridSearchCV(estimator = AdaBoostRegressor(), param_grid = hyperparams, \n",
    "                verbose=True, cv=5, scoring=scoring, n_jobs=-1)\n",
    "\n",
    "gd.fit(X_train, y_train)\n",
    "print(gd.best_score_)\n",
    "print(gd.best_params_)"
   ]
  },
  {
   "cell_type": "code",
   "execution_count": null,
   "metadata": {},
   "outputs": [
    {
     "name": "stdout",
     "output_type": "stream",
     "text": [
      "Fitting 5 folds for each of 60 candidates, totalling 300 fits\n"
     ]
    },
    {
     "name": "stderr",
     "output_type": "stream",
     "text": [
      "[Parallel(n_jobs=-1)]: Using backend LokyBackend with 24 concurrent workers.\n",
      "[Parallel(n_jobs=-1)]: Done   2 tasks      | elapsed:    0.0s\n"
     ]
    },
    {
     "name": "stdout",
     "output_type": "stream",
     "text": [
      "-2078.092685105304\n",
      "{'algorithm': 'auto', 'leaf_size': 1, 'n_neighbors': 5, 'weights': 'distance'}\n"
     ]
    },
    {
     "name": "stderr",
     "output_type": "stream",
     "text": [
      "[Parallel(n_jobs=-1)]: Done 253 out of 300 | elapsed:    0.5s remaining:    0.0s\n",
      "[Parallel(n_jobs=-1)]: Done 300 out of 300 | elapsed:    0.6s finished\n"
     ]
    }
   ],
   "source": [
    "n_neighbors = [1, 2, 3, 4, 5]\n",
    "algorithm = ['auto']\n",
    "weights = ['uniform', 'distance']\n",
    "leaf_size = [1, 2, 3, 4, 5, 10]\n",
    "\n",
    "hyperparams = {'algorithm': algorithm, 'weights': weights, 'leaf_size': leaf_size, \n",
    "               'n_neighbors': n_neighbors}\n",
    "\n",
    "gd=GridSearchCV(estimator = KNeighborsRegressor(), param_grid = hyperparams, \n",
    "                verbose=True, cv=5, scoring=scoring, n_jobs=-1)\n",
    "\n",
    "# Fitting model and return results\n",
    "gd.fit(X_train, y_train)\n",
    "print(gd.best_score_)\n",
    "print(gd.best_params_)"
   ]
  },
  {
   "cell_type": "code",
   "execution_count": null,
   "metadata": {},
   "outputs": [
    {
     "name": "stderr",
     "output_type": "stream",
     "text": [
      "[Parallel(n_jobs=-1)]: Using backend LokyBackend with 24 concurrent workers.\n",
      "[Parallel(n_jobs=-1)]: Done   2 tasks      | elapsed:    0.0s\n"
     ]
    },
    {
     "name": "stdout",
     "output_type": "stream",
     "text": [
      "Fitting 5 folds for each of 128 candidates, totalling 640 fits\n"
     ]
    },
    {
     "name": "stderr",
     "output_type": "stream",
     "text": [
      "[Parallel(n_jobs=-1)]: Done 256 tasks      | elapsed:    3.9s\n",
      "[Parallel(n_jobs=-1)]: Done 640 out of 640 | elapsed:   13.0s finished\n"
     ]
    },
    {
     "name": "stdout",
     "output_type": "stream",
     "text": [
      "-1519.7335973231395\n",
      "{'max_depth': None, 'max_features': 0.8, 'min_samples_leaf': 2, 'min_samples_split': 2, 'n_estimators': 100}\n"
     ]
    }
   ],
   "source": [
    "n_estimators = [10, 50, 100, 200]\n",
    "max_depth = [3, None]\n",
    "max_features = [0.1, 0.2, 0.5, 0.8]\n",
    "min_samples_split = [2, 6]\n",
    "min_samples_leaf = [2, 6]\n",
    "\n",
    "hyperparams = {'n_estimators': n_estimators, 'max_depth': max_depth, 'max_features': max_features,\n",
    "               'min_samples_split': min_samples_split, 'min_samples_leaf': min_samples_leaf}\n",
    "\n",
    "gd=GridSearchCV(estimator = RandomForestRegressor(), param_grid = hyperparams, \n",
    "                verbose=True, cv=5, scoring=scoring, n_jobs=-1)\n",
    "\n",
    "gd.fit(X_train, y_train)\n",
    "print(gd.best_score_)\n",
    "print(gd.best_params_)"
   ]
  },
  {
   "cell_type": "code",
   "execution_count": null,
   "metadata": {},
   "outputs": [
    {
     "name": "stdout",
     "output_type": "stream",
     "text": [
      "Fitting 5 folds for each of 160 candidates, totalling 800 fits\n"
     ]
    },
    {
     "name": "stderr",
     "output_type": "stream",
     "text": [
      "[Parallel(n_jobs=-1)]: Using backend LokyBackend with 24 concurrent workers.\n",
      "[Parallel(n_jobs=-1)]: Done   2 tasks      | elapsed:    0.0s\n",
      "[Parallel(n_jobs=-1)]: Done 368 tasks      | elapsed:    2.3s\n",
      "[Parallel(n_jobs=-1)]: Done 753 out of 800 | elapsed:    5.2s remaining:    0.2s\n"
     ]
    },
    {
     "name": "stdout",
     "output_type": "stream",
     "text": [
      "-1451.1013919637803\n",
      "{'max_depth': None, 'max_features': 0.8, 'min_samples_leaf': 2, 'min_samples_split': 2, 'n_estimators': 75}\n"
     ]
    },
    {
     "name": "stderr",
     "output_type": "stream",
     "text": [
      "[Parallel(n_jobs=-1)]: Done 800 out of 800 | elapsed:    5.7s finished\n"
     ]
    }
   ],
   "source": [
    "n_estimators = [10, 25, 50, 75, 100]\n",
    "max_depth = [3, None]\n",
    "max_features = [0.1, 0.2, 0.5, 0.8]\n",
    "min_samples_split = [2, 10]\n",
    "min_samples_leaf = [2, 10]\n",
    "\n",
    "hyperparams = {'n_estimators': n_estimators, 'max_depth': max_depth, 'max_features': max_features,\n",
    "               'min_samples_split': min_samples_split, 'min_samples_leaf': min_samples_leaf}\n",
    "\n",
    "gd=GridSearchCV(estimator = ExtraTreesRegressor(), param_grid = hyperparams, \n",
    "                verbose=True, cv=5, scoring=scoring, n_jobs=-1)\n",
    "\n",
    "gd.fit(X_train, y_train)\n",
    "print(gd.best_score_)\n",
    "print(gd.best_params_)"
   ]
  },
  {
   "cell_type": "code",
   "execution_count": null,
   "metadata": {},
   "outputs": [
    {
     "name": "stdout",
     "output_type": "stream",
     "text": [
      "Fitting 5 folds for each of 125 candidates, totalling 625 fits\n"
     ]
    },
    {
     "name": "stderr",
     "output_type": "stream",
     "text": [
      "[Parallel(n_jobs=-1)]: Using backend LokyBackend with 24 concurrent workers.\n",
      "[Parallel(n_jobs=-1)]: Done   2 tasks      | elapsed:    0.0s\n",
      "[Parallel(n_jobs=-1)]: Done 256 tasks      | elapsed:    4.0s\n",
      "[Parallel(n_jobs=-1)]: Done 625 out of 625 | elapsed:   15.6s finished\n"
     ]
    },
    {
     "name": "stdout",
     "output_type": "stream",
     "text": [
      "-1489.6415648828438\n",
      "{'max_features': 1.0, 'max_samples': 1.0, 'n_estimators': 200}\n"
     ]
    }
   ],
   "source": [
    "n_estimators = [10, 50, 75, 100, 200]\n",
    "max_samples = [0.1, 0.2, 0.5, 0.8, 1.0]\n",
    "max_features = [0.1, 0.2, 0.5, 0.8, 1.0]\n",
    "\n",
    "hyperparams = {'n_estimators': n_estimators, 'max_samples': max_samples, 'max_features': max_features}\n",
    "\n",
    "gd=GridSearchCV(estimator = BaggingRegressor(), param_grid = hyperparams, \n",
    "                verbose=True, cv=5, scoring=scoring, n_jobs=-1)\n",
    "\n",
    "gd.fit(X_train, y_train)\n",
    "print(gd.best_score_)\n",
    "print(gd.best_params_)"
   ]
  },
  {
   "cell_type": "code",
   "execution_count": 195,
   "metadata": {},
   "outputs": [],
   "source": [
    "# 튜닝 모델 시작\n",
    "# sample을 split하는 것은 전체데이터 80%를 트레인셋에 20%는 테스트셋에 줌  \n",
    "svr = SVR(C=50, gamma=0.1)\n",
    "gbr = GradientBoostingRegressor(learning_rate=0.01, n_estimators=2000)\n",
    "xgb = XGBRegressor(learning_rate=0.1, n_estimators=250, max_depth=7, \n",
    "        min_child_weight=2, gamma=0.4, subsample=0.8, colsample_bytree=0.9, reg_alpha=0.1)\n",
    "gpr = GaussianProcessRegressor(n_restarts_optimizer=0)\n",
    "ada = AdaBoostRegressor(learning_rate=0.1, n_estimators=100)\n",
    "knn = KNeighborsRegressor(algorithm='auto', leaf_size=1, n_neighbors=5, weights='distance')\n",
    "ran = RandomForestRegressor(max_depth=None, max_features=0.8, min_samples_leaf=2,\n",
    "        min_samples_split=6, n_estimators=200)\n",
    "ext = ExtraTreesRegressor(max_depth=None, max_features=0.8, min_samples_leaf=2,\n",
    "        min_samples_split=2, n_estimators=75)\n",
    "bag = BaggingRegressor(max_features=1.0, max_samples=1.0, n_estimators=200)\n",
    "\n",
    "# 리스트 준비\n",
    "models = [ran, knn, xgb, gbr, svr, ext, ada, gpr, bag]         \n",
    "model_names = ['Random Forest', 'K Nearest Neighbour',\n",
    "    'XGBoost', 'Gradient Boosting', 'SVR', 'Extra Trees', 'AdaBoost', \n",
    "    'Gaussian Process', 'Bagging Classifier']\n",
    "scores3 = {}\n",
    "\n",
    "# Sequentially fit and cross validate all models\n",
    "for ind, mod in enumerate(models):\n",
    "    mod.fit(X_train, y_train)\n",
    "    acc = cross_val_score(mod, X_train, y_train, scoring=scoring, cv=10)\n",
    "    scores3[model_names[ind]] = acc"
   ]
  },
  {
   "cell_type": "code",
   "execution_count": 196,
   "metadata": {},
   "outputs": [
    {
     "data": {
      "text/html": [
       "<div>\n",
       "<style scoped>\n",
       "    .dataframe tbody tr th:only-of-type {\n",
       "        vertical-align: middle;\n",
       "    }\n",
       "\n",
       "    .dataframe tbody tr th {\n",
       "        vertical-align: top;\n",
       "    }\n",
       "\n",
       "    .dataframe thead th {\n",
       "        text-align: right;\n",
       "    }\n",
       "</style>\n",
       "<table border=\"1\" class=\"dataframe\">\n",
       "  <thead>\n",
       "    <tr style=\"text-align: right;\">\n",
       "      <th></th>\n",
       "      <th>0</th>\n",
       "      <th>1</th>\n",
       "      <th>2</th>\n",
       "      <th>3</th>\n",
       "      <th>4</th>\n",
       "      <th>5</th>\n",
       "      <th>6</th>\n",
       "      <th>7</th>\n",
       "      <th>8</th>\n",
       "      <th>9</th>\n",
       "      <th>mean</th>\n",
       "    </tr>\n",
       "  </thead>\n",
       "  <tbody>\n",
       "    <tr>\n",
       "      <th>XGBoost</th>\n",
       "      <td>-1249.632906</td>\n",
       "      <td>-1261.502391</td>\n",
       "      <td>-2048.151543</td>\n",
       "      <td>-1067.226301</td>\n",
       "      <td>-1099.378983</td>\n",
       "      <td>-1276.988526</td>\n",
       "      <td>-1209.512307</td>\n",
       "      <td>-1811.775709</td>\n",
       "      <td>-1355.631809</td>\n",
       "      <td>-1169.738629</td>\n",
       "      <td>-1354.953910</td>\n",
       "    </tr>\n",
       "    <tr>\n",
       "      <th>Extra Trees</th>\n",
       "      <td>-1547.279552</td>\n",
       "      <td>-1253.117012</td>\n",
       "      <td>-1963.832314</td>\n",
       "      <td>-1129.153082</td>\n",
       "      <td>-1382.159355</td>\n",
       "      <td>-1222.038626</td>\n",
       "      <td>-1453.926886</td>\n",
       "      <td>-1801.945838</td>\n",
       "      <td>-1278.714743</td>\n",
       "      <td>-1065.816100</td>\n",
       "      <td>-1409.798351</td>\n",
       "    </tr>\n",
       "    <tr>\n",
       "      <th>Bagging Classifier</th>\n",
       "      <td>-1435.386871</td>\n",
       "      <td>-1425.228110</td>\n",
       "      <td>-1987.372810</td>\n",
       "      <td>-1361.585126</td>\n",
       "      <td>-1364.494395</td>\n",
       "      <td>-1248.266508</td>\n",
       "      <td>-1454.302403</td>\n",
       "      <td>-1765.470905</td>\n",
       "      <td>-1356.028460</td>\n",
       "      <td>-1225.251136</td>\n",
       "      <td>-1462.338672</td>\n",
       "    </tr>\n",
       "    <tr>\n",
       "      <th>Random Forest</th>\n",
       "      <td>-1536.080045</td>\n",
       "      <td>-1381.912901</td>\n",
       "      <td>-2103.466119</td>\n",
       "      <td>-1303.284878</td>\n",
       "      <td>-1481.300985</td>\n",
       "      <td>-1272.968473</td>\n",
       "      <td>-1525.401563</td>\n",
       "      <td>-1790.655752</td>\n",
       "      <td>-1341.764049</td>\n",
       "      <td>-1179.477909</td>\n",
       "      <td>-1491.631268</td>\n",
       "    </tr>\n",
       "    <tr>\n",
       "      <th>Gradient Boosting</th>\n",
       "      <td>-1811.567880</td>\n",
       "      <td>-1291.310329</td>\n",
       "      <td>-2100.216558</td>\n",
       "      <td>-1283.498381</td>\n",
       "      <td>-1413.763053</td>\n",
       "      <td>-1206.666976</td>\n",
       "      <td>-1604.142853</td>\n",
       "      <td>-1675.280148</td>\n",
       "      <td>-1373.411181</td>\n",
       "      <td>-1225.572666</td>\n",
       "      <td>-1498.543002</td>\n",
       "    </tr>\n",
       "    <tr>\n",
       "      <th>K Nearest Neighbour</th>\n",
       "      <td>-1925.943357</td>\n",
       "      <td>-1709.995707</td>\n",
       "      <td>-3434.632471</td>\n",
       "      <td>-2006.477523</td>\n",
       "      <td>-1950.678646</td>\n",
       "      <td>-1826.134096</td>\n",
       "      <td>-1892.935603</td>\n",
       "      <td>-2257.693553</td>\n",
       "      <td>-1690.304068</td>\n",
       "      <td>-1359.094963</td>\n",
       "      <td>-2005.388999</td>\n",
       "    </tr>\n",
       "    <tr>\n",
       "      <th>AdaBoost</th>\n",
       "      <td>-2590.989479</td>\n",
       "      <td>-1722.764986</td>\n",
       "      <td>-2877.542041</td>\n",
       "      <td>-1915.830372</td>\n",
       "      <td>-2246.391569</td>\n",
       "      <td>-1729.228717</td>\n",
       "      <td>-2378.537209</td>\n",
       "      <td>-2265.078633</td>\n",
       "      <td>-1942.810383</td>\n",
       "      <td>-1579.096689</td>\n",
       "      <td>-2124.827008</td>\n",
       "    </tr>\n",
       "    <tr>\n",
       "      <th>SVR</th>\n",
       "      <td>-2538.324045</td>\n",
       "      <td>-1608.158999</td>\n",
       "      <td>-3849.406650</td>\n",
       "      <td>-2422.941163</td>\n",
       "      <td>-2171.238417</td>\n",
       "      <td>-2005.167629</td>\n",
       "      <td>-2420.528584</td>\n",
       "      <td>-2206.710644</td>\n",
       "      <td>-1892.345561</td>\n",
       "      <td>-1491.881874</td>\n",
       "      <td>-2260.670357</td>\n",
       "    </tr>\n",
       "    <tr>\n",
       "      <th>Gaussian Process</th>\n",
       "      <td>-3373.628341</td>\n",
       "      <td>-2902.708689</td>\n",
       "      <td>-3502.392658</td>\n",
       "      <td>-3393.670148</td>\n",
       "      <td>-3170.870315</td>\n",
       "      <td>-3227.448185</td>\n",
       "      <td>-3562.349578</td>\n",
       "      <td>-2779.360125</td>\n",
       "      <td>-3517.353567</td>\n",
       "      <td>-3193.324322</td>\n",
       "      <td>-3262.310593</td>\n",
       "    </tr>\n",
       "  </tbody>\n",
       "</table>\n",
       "</div>"
      ],
      "text/plain": [
       "                               0            1            2            3  \\\n",
       "XGBoost             -1249.632906 -1261.502391 -2048.151543 -1067.226301   \n",
       "Extra Trees         -1547.279552 -1253.117012 -1963.832314 -1129.153082   \n",
       "Bagging Classifier  -1435.386871 -1425.228110 -1987.372810 -1361.585126   \n",
       "Random Forest       -1536.080045 -1381.912901 -2103.466119 -1303.284878   \n",
       "Gradient Boosting   -1811.567880 -1291.310329 -2100.216558 -1283.498381   \n",
       "K Nearest Neighbour -1925.943357 -1709.995707 -3434.632471 -2006.477523   \n",
       "AdaBoost            -2590.989479 -1722.764986 -2877.542041 -1915.830372   \n",
       "SVR                 -2538.324045 -1608.158999 -3849.406650 -2422.941163   \n",
       "Gaussian Process    -3373.628341 -2902.708689 -3502.392658 -3393.670148   \n",
       "\n",
       "                               4            5            6            7  \\\n",
       "XGBoost             -1099.378983 -1276.988526 -1209.512307 -1811.775709   \n",
       "Extra Trees         -1382.159355 -1222.038626 -1453.926886 -1801.945838   \n",
       "Bagging Classifier  -1364.494395 -1248.266508 -1454.302403 -1765.470905   \n",
       "Random Forest       -1481.300985 -1272.968473 -1525.401563 -1790.655752   \n",
       "Gradient Boosting   -1413.763053 -1206.666976 -1604.142853 -1675.280148   \n",
       "K Nearest Neighbour -1950.678646 -1826.134096 -1892.935603 -2257.693553   \n",
       "AdaBoost            -2246.391569 -1729.228717 -2378.537209 -2265.078633   \n",
       "SVR                 -2171.238417 -2005.167629 -2420.528584 -2206.710644   \n",
       "Gaussian Process    -3170.870315 -3227.448185 -3562.349578 -2779.360125   \n",
       "\n",
       "                               8            9         mean  \n",
       "XGBoost             -1355.631809 -1169.738629 -1354.953910  \n",
       "Extra Trees         -1278.714743 -1065.816100 -1409.798351  \n",
       "Bagging Classifier  -1356.028460 -1225.251136 -1462.338672  \n",
       "Random Forest       -1341.764049 -1179.477909 -1491.631268  \n",
       "Gradient Boosting   -1373.411181 -1225.572666 -1498.543002  \n",
       "K Nearest Neighbour -1690.304068 -1359.094963 -2005.388999  \n",
       "AdaBoost            -1942.810383 -1579.096689 -2124.827008  \n",
       "SVR                 -1892.345561 -1491.881874 -2260.670357  \n",
       "Gaussian Process    -3517.353567 -3193.324322 -3262.310593  "
      ]
     },
     "execution_count": 196,
     "metadata": {},
     "output_type": "execute_result"
    }
   ],
   "source": [
    "results = pd.DataFrame(scores3).T\n",
    "results['mean'] = results.mean(1)\n",
    "result_df = results.sort_values(by='mean', ascending=False)\n",
    "result_df.head(11)\n",
    "\n"
   ]
  },
  {
   "cell_type": "code",
   "execution_count": 197,
   "metadata": {},
   "outputs": [
    {
     "data": {
      "image/png": "[encoded data removed]",
      "text/plain": [
       "<Figure size 432x288 with 1 Axes>"
      ]
     },
     "metadata": {},
     "output_type": "display_data"
    }
   ],
   "source": [
    "result_df = result_df.drop(['mean'], axis=1)\n",
    "sns.boxplot(data=result_df.T, orient='h')\n",
    "plt.title('Machine Learning Algorithm Accuracy Score \\n')\n",
    "plt.xlabel('Accuracy Score (%)');"
   ]
  },
  {
   "cell_type": "code",
   "execution_count": 199,
   "metadata": {},
   "outputs": [
    {
     "data": {
      "text/html": [
       "<div>\n",
       "<style scoped>\n",
       "    .dataframe tbody tr th:only-of-type {\n",
       "        vertical-align: middle;\n",
       "    }\n",
       "\n",
       "    .dataframe tbody tr th {\n",
       "        vertical-align: top;\n",
       "    }\n",
       "\n",
       "    .dataframe thead th {\n",
       "        text-align: right;\n",
       "    }\n",
       "</style>\n",
       "<table border=\"1\" class=\"dataframe\">\n",
       "  <thead>\n",
       "    <tr style=\"text-align: right;\">\n",
       "      <th></th>\n",
       "      <th>id</th>\n",
       "      <th>count</th>\n",
       "    </tr>\n",
       "  </thead>\n",
       "  <tbody>\n",
       "    <tr>\n",
       "      <th>0</th>\n",
       "      <td>0</td>\n",
       "      <td>66.756794</td>\n",
       "    </tr>\n",
       "    <tr>\n",
       "      <th>1</th>\n",
       "      <td>1</td>\n",
       "      <td>219.131222</td>\n",
       "    </tr>\n",
       "    <tr>\n",
       "      <th>2</th>\n",
       "      <td>2</td>\n",
       "      <td>52.833566</td>\n",
       "    </tr>\n",
       "    <tr>\n",
       "      <th>3</th>\n",
       "      <td>4</td>\n",
       "      <td>80.872687</td>\n",
       "    </tr>\n",
       "    <tr>\n",
       "      <th>4</th>\n",
       "      <td>5</td>\n",
       "      <td>1.741830</td>\n",
       "    </tr>\n",
       "    <tr>\n",
       "      <th>...</th>\n",
       "      <td>...</td>\n",
       "      <td>...</td>\n",
       "    </tr>\n",
       "    <tr>\n",
       "      <th>710</th>\n",
       "      <td>2148</td>\n",
       "      <td>-16.692249</td>\n",
       "    </tr>\n",
       "    <tr>\n",
       "      <th>711</th>\n",
       "      <td>2149</td>\n",
       "      <td>-5.065487</td>\n",
       "    </tr>\n",
       "    <tr>\n",
       "      <th>712</th>\n",
       "      <td>2165</td>\n",
       "      <td>-2.274399</td>\n",
       "    </tr>\n",
       "    <tr>\n",
       "      <th>713</th>\n",
       "      <td>2166</td>\n",
       "      <td>144.500843</td>\n",
       "    </tr>\n",
       "    <tr>\n",
       "      <th>714</th>\n",
       "      <td>2177</td>\n",
       "      <td>95.029393</td>\n",
       "    </tr>\n",
       "  </tbody>\n",
       "</table>\n",
       "<p>715 rows × 2 columns</p>\n",
       "</div>"
      ],
      "text/plain": [
       "       id       count\n",
       "0       0   66.756794\n",
       "1       1  219.131222\n",
       "2       2   52.833566\n",
       "3       4   80.872687\n",
       "4       5    1.741830\n",
       "..    ...         ...\n",
       "710  2148  -16.692249\n",
       "711  2149   -5.065487\n",
       "712  2165   -2.274399\n",
       "713  2166  144.500843\n",
       "714  2177   95.029393\n",
       "\n",
       "[715 rows x 2 columns]"
      ]
     },
     "execution_count": 199,
     "metadata": {},
     "output_type": "execute_result"
    }
   ],
   "source": [
    "predictions = ext.predict(X_test)\n",
    "submission = pd.concat([pd.DataFrame(id_test), pd.DataFrame(predictions)], axis='columns')\n",
    "submission.columns = [\"id\", \"count\"]\n",
    "submission.to_csv('../output/ddareung.csv', header = True, index = False)\n",
    "submission\n"
   ]
  },
  {
   "cell_type": "code",
   "execution_count": null,
   "metadata": {},
   "outputs": [],
   "source": []
  }
 ],
 "metadata": {
  "kernelspec": {
   "display_name": "Python 3.7.6 ('base')",
   "language": "python",
   "name": "python3"
  },
  "language_info": {
   "codemirror_mode": {
    "name": "ipython",
    "version": 3
   },
   "file_extension": ".py",
   "mimetype": "text/x-python",
   "name": "python",
   "nbconvert_exporter": "python",
   "pygments_lexer": "ipython3",
   "version": "3.7.6"
  },
  "orig_nbformat": 4,
  "vscode": {
   "interpreter": {
    "hash": "71b0ce410f07459aeee30e5da832126f2bde01571b2d299cf1df7f50e2f43b03"
   }
  }
 },
 "nbformat": 4,
 "nbformat_minor": 2
}
